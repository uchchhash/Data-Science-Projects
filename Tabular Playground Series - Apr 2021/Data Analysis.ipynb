{
 "cells": [
  {
   "cell_type": "markdown",
   "id": "polished-briefs",
   "metadata": {},
   "source": [
    "## Importing required libraries"
   ]
  },
  {
   "cell_type": "code",
   "execution_count": 1,
   "id": "incomplete-bundle",
   "metadata": {},
   "outputs": [],
   "source": [
    "import numpy as np\n",
    "import pandas as pd\n",
    "import scipy.stats as stats\n",
    "\n",
    "import matplotlib.pyplot as plt\n",
    "import seaborn as sns\n",
    "\n",
    "import warnings\n",
    "warnings.filterwarnings('ignore')\n",
    "plt.style.use('ggplot')\n",
    "%matplotlib inline"
   ]
  },
  {
   "cell_type": "markdown",
   "id": "charming-airport",
   "metadata": {},
   "source": [
    "## Loading Datasets\n",
    "Here I have loaded the given 'train.csv' dataset using the pandas library."
   ]
  },
  {
   "cell_type": "code",
   "execution_count": 2,
   "id": "hispanic-price",
   "metadata": {},
   "outputs": [],
   "source": [
    "df = pd.read_csv('data/train.csv')"
   ]
  },
  {
   "cell_type": "markdown",
   "id": "tested-blowing",
   "metadata": {},
   "source": [
    "## Data Query"
   ]
  },
  {
   "cell_type": "markdown",
   "id": "forbidden-match",
   "metadata": {},
   "source": [
    "#### Printing the dataset"
   ]
  },
  {
   "cell_type": "code",
   "execution_count": 3,
   "id": "proof-brand",
   "metadata": {},
   "outputs": [
    {
     "data": {
      "text/html": [
       "<div>\n",
       "<style scoped>\n",
       "    .dataframe tbody tr th:only-of-type {\n",
       "        vertical-align: middle;\n",
       "    }\n",
       "\n",
       "    .dataframe tbody tr th {\n",
       "        vertical-align: top;\n",
       "    }\n",
       "\n",
       "    .dataframe thead th {\n",
       "        text-align: right;\n",
       "    }\n",
       "</style>\n",
       "<table border=\"1\" class=\"dataframe\">\n",
       "  <thead>\n",
       "    <tr style=\"text-align: right;\">\n",
       "      <th></th>\n",
       "      <th>PassengerId</th>\n",
       "      <th>Survived</th>\n",
       "      <th>Pclass</th>\n",
       "      <th>Name</th>\n",
       "      <th>Sex</th>\n",
       "      <th>Age</th>\n",
       "      <th>SibSp</th>\n",
       "      <th>Parch</th>\n",
       "      <th>Ticket</th>\n",
       "      <th>Fare</th>\n",
       "      <th>Cabin</th>\n",
       "      <th>Embarked</th>\n",
       "    </tr>\n",
       "  </thead>\n",
       "  <tbody>\n",
       "    <tr>\n",
       "      <th>0</th>\n",
       "      <td>0</td>\n",
       "      <td>1</td>\n",
       "      <td>1</td>\n",
       "      <td>Oconnor, Frankie</td>\n",
       "      <td>male</td>\n",
       "      <td>NaN</td>\n",
       "      <td>2</td>\n",
       "      <td>0</td>\n",
       "      <td>209245</td>\n",
       "      <td>27.14</td>\n",
       "      <td>C12239</td>\n",
       "      <td>S</td>\n",
       "    </tr>\n",
       "    <tr>\n",
       "      <th>1</th>\n",
       "      <td>1</td>\n",
       "      <td>0</td>\n",
       "      <td>3</td>\n",
       "      <td>Bryan, Drew</td>\n",
       "      <td>male</td>\n",
       "      <td>NaN</td>\n",
       "      <td>0</td>\n",
       "      <td>0</td>\n",
       "      <td>27323</td>\n",
       "      <td>13.35</td>\n",
       "      <td>NaN</td>\n",
       "      <td>S</td>\n",
       "    </tr>\n",
       "    <tr>\n",
       "      <th>2</th>\n",
       "      <td>2</td>\n",
       "      <td>0</td>\n",
       "      <td>3</td>\n",
       "      <td>Owens, Kenneth</td>\n",
       "      <td>male</td>\n",
       "      <td>0.33</td>\n",
       "      <td>1</td>\n",
       "      <td>2</td>\n",
       "      <td>CA 457703</td>\n",
       "      <td>71.29</td>\n",
       "      <td>NaN</td>\n",
       "      <td>S</td>\n",
       "    </tr>\n",
       "    <tr>\n",
       "      <th>3</th>\n",
       "      <td>3</td>\n",
       "      <td>0</td>\n",
       "      <td>3</td>\n",
       "      <td>Kramer, James</td>\n",
       "      <td>male</td>\n",
       "      <td>19.00</td>\n",
       "      <td>0</td>\n",
       "      <td>0</td>\n",
       "      <td>A. 10866</td>\n",
       "      <td>13.04</td>\n",
       "      <td>NaN</td>\n",
       "      <td>S</td>\n",
       "    </tr>\n",
       "    <tr>\n",
       "      <th>4</th>\n",
       "      <td>4</td>\n",
       "      <td>1</td>\n",
       "      <td>3</td>\n",
       "      <td>Bond, Michael</td>\n",
       "      <td>male</td>\n",
       "      <td>25.00</td>\n",
       "      <td>0</td>\n",
       "      <td>0</td>\n",
       "      <td>427635</td>\n",
       "      <td>7.76</td>\n",
       "      <td>NaN</td>\n",
       "      <td>S</td>\n",
       "    </tr>\n",
       "    <tr>\n",
       "      <th>...</th>\n",
       "      <td>...</td>\n",
       "      <td>...</td>\n",
       "      <td>...</td>\n",
       "      <td>...</td>\n",
       "      <td>...</td>\n",
       "      <td>...</td>\n",
       "      <td>...</td>\n",
       "      <td>...</td>\n",
       "      <td>...</td>\n",
       "      <td>...</td>\n",
       "      <td>...</td>\n",
       "      <td>...</td>\n",
       "    </tr>\n",
       "    <tr>\n",
       "      <th>99995</th>\n",
       "      <td>99995</td>\n",
       "      <td>1</td>\n",
       "      <td>2</td>\n",
       "      <td>Bell, Adele</td>\n",
       "      <td>female</td>\n",
       "      <td>62.00</td>\n",
       "      <td>0</td>\n",
       "      <td>0</td>\n",
       "      <td>PC 15008</td>\n",
       "      <td>14.86</td>\n",
       "      <td>D17243</td>\n",
       "      <td>C</td>\n",
       "    </tr>\n",
       "    <tr>\n",
       "      <th>99996</th>\n",
       "      <td>99996</td>\n",
       "      <td>0</td>\n",
       "      <td>2</td>\n",
       "      <td>Brown, Herman</td>\n",
       "      <td>male</td>\n",
       "      <td>66.00</td>\n",
       "      <td>0</td>\n",
       "      <td>0</td>\n",
       "      <td>13273</td>\n",
       "      <td>11.15</td>\n",
       "      <td>NaN</td>\n",
       "      <td>S</td>\n",
       "    </tr>\n",
       "    <tr>\n",
       "      <th>99997</th>\n",
       "      <td>99997</td>\n",
       "      <td>0</td>\n",
       "      <td>3</td>\n",
       "      <td>Childress, Charles</td>\n",
       "      <td>male</td>\n",
       "      <td>37.00</td>\n",
       "      <td>0</td>\n",
       "      <td>0</td>\n",
       "      <td>NaN</td>\n",
       "      <td>9.95</td>\n",
       "      <td>NaN</td>\n",
       "      <td>S</td>\n",
       "    </tr>\n",
       "    <tr>\n",
       "      <th>99998</th>\n",
       "      <td>99998</td>\n",
       "      <td>0</td>\n",
       "      <td>3</td>\n",
       "      <td>Caughlin, Thomas</td>\n",
       "      <td>male</td>\n",
       "      <td>51.00</td>\n",
       "      <td>0</td>\n",
       "      <td>1</td>\n",
       "      <td>458654</td>\n",
       "      <td>30.92</td>\n",
       "      <td>NaN</td>\n",
       "      <td>S</td>\n",
       "    </tr>\n",
       "    <tr>\n",
       "      <th>99999</th>\n",
       "      <td>99999</td>\n",
       "      <td>0</td>\n",
       "      <td>3</td>\n",
       "      <td>Enciso, Tyler</td>\n",
       "      <td>male</td>\n",
       "      <td>55.00</td>\n",
       "      <td>0</td>\n",
       "      <td>0</td>\n",
       "      <td>458074</td>\n",
       "      <td>13.96</td>\n",
       "      <td>NaN</td>\n",
       "      <td>S</td>\n",
       "    </tr>\n",
       "  </tbody>\n",
       "</table>\n",
       "<p>100000 rows × 12 columns</p>\n",
       "</div>"
      ],
      "text/plain": [
       "       PassengerId  Survived  Pclass                Name     Sex    Age  \\\n",
       "0                0         1       1    Oconnor, Frankie    male    NaN   \n",
       "1                1         0       3         Bryan, Drew    male    NaN   \n",
       "2                2         0       3      Owens, Kenneth    male   0.33   \n",
       "3                3         0       3       Kramer, James    male  19.00   \n",
       "4                4         1       3       Bond, Michael    male  25.00   \n",
       "...            ...       ...     ...                 ...     ...    ...   \n",
       "99995        99995         1       2         Bell, Adele  female  62.00   \n",
       "99996        99996         0       2       Brown, Herman    male  66.00   \n",
       "99997        99997         0       3  Childress, Charles    male  37.00   \n",
       "99998        99998         0       3    Caughlin, Thomas    male  51.00   \n",
       "99999        99999         0       3       Enciso, Tyler    male  55.00   \n",
       "\n",
       "       SibSp  Parch     Ticket   Fare   Cabin Embarked  \n",
       "0          2      0     209245  27.14  C12239        S  \n",
       "1          0      0      27323  13.35     NaN        S  \n",
       "2          1      2  CA 457703  71.29     NaN        S  \n",
       "3          0      0   A. 10866  13.04     NaN        S  \n",
       "4          0      0     427635   7.76     NaN        S  \n",
       "...      ...    ...        ...    ...     ...      ...  \n",
       "99995      0      0   PC 15008  14.86  D17243        C  \n",
       "99996      0      0      13273  11.15     NaN        S  \n",
       "99997      0      0        NaN   9.95     NaN        S  \n",
       "99998      0      1     458654  30.92     NaN        S  \n",
       "99999      0      0     458074  13.96     NaN        S  \n",
       "\n",
       "[100000 rows x 12 columns]"
      ]
     },
     "execution_count": 3,
     "metadata": {},
     "output_type": "execute_result"
    }
   ],
   "source": [
    "df"
   ]
  },
  {
   "cell_type": "markdown",
   "id": "constitutional-latitude",
   "metadata": {},
   "source": [
    "#### Printing the shape of the dataset to know how many rows and columns we have:"
   ]
  },
  {
   "cell_type": "code",
   "execution_count": 4,
   "id": "framed-illustration",
   "metadata": {},
   "outputs": [
    {
     "data": {
      "text/plain": [
       "(100000, 12)"
      ]
     },
     "execution_count": 4,
     "metadata": {},
     "output_type": "execute_result"
    }
   ],
   "source": [
    "df.shape"
   ]
  },
  {
   "cell_type": "markdown",
   "id": "fewer-distribution",
   "metadata": {},
   "source": [
    "#### Printing more info to know how many non zero elements present in a column and what the data types are:"
   ]
  },
  {
   "cell_type": "code",
   "execution_count": 5,
   "id": "ranging-incentive",
   "metadata": {},
   "outputs": [
    {
     "name": "stdout",
     "output_type": "stream",
     "text": [
      "<class 'pandas.core.frame.DataFrame'>\n",
      "RangeIndex: 100000 entries, 0 to 99999\n",
      "Data columns (total 12 columns):\n",
      " #   Column       Non-Null Count   Dtype  \n",
      "---  ------       --------------   -----  \n",
      " 0   PassengerId  100000 non-null  int64  \n",
      " 1   Survived     100000 non-null  int64  \n",
      " 2   Pclass       100000 non-null  int64  \n",
      " 3   Name         100000 non-null  object \n",
      " 4   Sex          100000 non-null  object \n",
      " 5   Age          96708 non-null   float64\n",
      " 6   SibSp        100000 non-null  int64  \n",
      " 7   Parch        100000 non-null  int64  \n",
      " 8   Ticket       95377 non-null   object \n",
      " 9   Fare         99866 non-null   float64\n",
      " 10  Cabin        32134 non-null   object \n",
      " 11  Embarked     99750 non-null   object \n",
      "dtypes: float64(2), int64(5), object(5)\n",
      "memory usage: 9.2+ MB\n"
     ]
    }
   ],
   "source": [
    "df.info()"
   ]
  },
  {
   "cell_type": "markdown",
   "id": "after-statistics",
   "metadata": {},
   "source": [
    "Here we can see there are total 11 columns from which there are 7 numerical columns and 4 object columns. We also have observed that there is no need for data convertion in this dataset."
   ]
  },
  {
   "cell_type": "markdown",
   "id": "increasing-filling",
   "metadata": {},
   "source": [
    "#### Printing statistical info of the numerical columns of the dataset:"
   ]
  },
  {
   "cell_type": "code",
   "execution_count": 6,
   "id": "auburn-flash",
   "metadata": {},
   "outputs": [
    {
     "data": {
      "text/html": [
       "<div>\n",
       "<style scoped>\n",
       "    .dataframe tbody tr th:only-of-type {\n",
       "        vertical-align: middle;\n",
       "    }\n",
       "\n",
       "    .dataframe tbody tr th {\n",
       "        vertical-align: top;\n",
       "    }\n",
       "\n",
       "    .dataframe thead th {\n",
       "        text-align: right;\n",
       "    }\n",
       "</style>\n",
       "<table border=\"1\" class=\"dataframe\">\n",
       "  <thead>\n",
       "    <tr style=\"text-align: right;\">\n",
       "      <th></th>\n",
       "      <th>count</th>\n",
       "      <th>mean</th>\n",
       "      <th>std</th>\n",
       "      <th>min</th>\n",
       "      <th>25%</th>\n",
       "      <th>50%</th>\n",
       "      <th>75%</th>\n",
       "      <th>max</th>\n",
       "    </tr>\n",
       "  </thead>\n",
       "  <tbody>\n",
       "    <tr>\n",
       "      <th>PassengerId</th>\n",
       "      <td>100000.0</td>\n",
       "      <td>49999.500000</td>\n",
       "      <td>28867.657797</td>\n",
       "      <td>0.00</td>\n",
       "      <td>24999.75</td>\n",
       "      <td>49999.50</td>\n",
       "      <td>74999.25</td>\n",
       "      <td>99999.00</td>\n",
       "    </tr>\n",
       "    <tr>\n",
       "      <th>Survived</th>\n",
       "      <td>100000.0</td>\n",
       "      <td>0.427740</td>\n",
       "      <td>0.494753</td>\n",
       "      <td>0.00</td>\n",
       "      <td>0.00</td>\n",
       "      <td>0.00</td>\n",
       "      <td>1.00</td>\n",
       "      <td>1.00</td>\n",
       "    </tr>\n",
       "    <tr>\n",
       "      <th>Pclass</th>\n",
       "      <td>100000.0</td>\n",
       "      <td>2.106910</td>\n",
       "      <td>0.837727</td>\n",
       "      <td>1.00</td>\n",
       "      <td>1.00</td>\n",
       "      <td>2.00</td>\n",
       "      <td>3.00</td>\n",
       "      <td>3.00</td>\n",
       "    </tr>\n",
       "    <tr>\n",
       "      <th>Age</th>\n",
       "      <td>96708.0</td>\n",
       "      <td>38.355472</td>\n",
       "      <td>18.313556</td>\n",
       "      <td>0.08</td>\n",
       "      <td>25.00</td>\n",
       "      <td>39.00</td>\n",
       "      <td>53.00</td>\n",
       "      <td>87.00</td>\n",
       "    </tr>\n",
       "    <tr>\n",
       "      <th>SibSp</th>\n",
       "      <td>100000.0</td>\n",
       "      <td>0.397690</td>\n",
       "      <td>0.862566</td>\n",
       "      <td>0.00</td>\n",
       "      <td>0.00</td>\n",
       "      <td>0.00</td>\n",
       "      <td>1.00</td>\n",
       "      <td>8.00</td>\n",
       "    </tr>\n",
       "    <tr>\n",
       "      <th>Parch</th>\n",
       "      <td>100000.0</td>\n",
       "      <td>0.454560</td>\n",
       "      <td>0.950076</td>\n",
       "      <td>0.00</td>\n",
       "      <td>0.00</td>\n",
       "      <td>0.00</td>\n",
       "      <td>1.00</td>\n",
       "      <td>9.00</td>\n",
       "    </tr>\n",
       "    <tr>\n",
       "      <th>Fare</th>\n",
       "      <td>99866.0</td>\n",
       "      <td>43.929330</td>\n",
       "      <td>69.588820</td>\n",
       "      <td>0.68</td>\n",
       "      <td>10.04</td>\n",
       "      <td>24.46</td>\n",
       "      <td>33.50</td>\n",
       "      <td>744.66</td>\n",
       "    </tr>\n",
       "  </tbody>\n",
       "</table>\n",
       "</div>"
      ],
      "text/plain": [
       "                count          mean           std   min       25%       50%  \\\n",
       "PassengerId  100000.0  49999.500000  28867.657797  0.00  24999.75  49999.50   \n",
       "Survived     100000.0      0.427740      0.494753  0.00      0.00      0.00   \n",
       "Pclass       100000.0      2.106910      0.837727  1.00      1.00      2.00   \n",
       "Age           96708.0     38.355472     18.313556  0.08     25.00     39.00   \n",
       "SibSp        100000.0      0.397690      0.862566  0.00      0.00      0.00   \n",
       "Parch        100000.0      0.454560      0.950076  0.00      0.00      0.00   \n",
       "Fare          99866.0     43.929330     69.588820  0.68     10.04     24.46   \n",
       "\n",
       "                  75%       max  \n",
       "PassengerId  74999.25  99999.00  \n",
       "Survived         1.00      1.00  \n",
       "Pclass           3.00      3.00  \n",
       "Age             53.00     87.00  \n",
       "SibSp            1.00      8.00  \n",
       "Parch            1.00      9.00  \n",
       "Fare            33.50    744.66  "
      ]
     },
     "execution_count": 6,
     "metadata": {},
     "output_type": "execute_result"
    }
   ],
   "source": [
    "df.describe().transpose()"
   ]
  },
  {
   "cell_type": "markdown",
   "id": "attended-thumbnail",
   "metadata": {},
   "source": [
    "#### Know about the columns "
   ]
  },
  {
   "cell_type": "code",
   "execution_count": 7,
   "id": "ranging-transsexual",
   "metadata": {},
   "outputs": [
    {
     "data": {
      "text/plain": [
       "Index(['PassengerId', 'Survived', 'Pclass', 'Name', 'Sex', 'Age', 'SibSp',\n",
       "       'Parch', 'Ticket', 'Fare', 'Cabin', 'Embarked'],\n",
       "      dtype='object')"
      ]
     },
     "execution_count": 7,
     "metadata": {},
     "output_type": "execute_result"
    }
   ],
   "source": [
    "df.columns"
   ]
  },
  {
   "cell_type": "markdown",
   "id": "better-stretch",
   "metadata": {},
   "source": [
    "#### From the column names and the source of the dataset we came to know that:\n",
    "\n",
    "> 'PassengerId' indicates numerical ID's of the passengers.\n",
    "\n",
    "> 'Survived' indicates the passenger survived or not.\n",
    "\n",
    "> 'Pclass' indicates the Ticket class.\n",
    "\n",
    "> 'Name', 'Sex', 'Age' indicates the name, sex and age of the passenger.\n",
    "\n",
    "> 'sibsp' and 'Parch' indicates the number of siblings and number of parents/children  aboard the titanic with the passenger.\n",
    "\n",
    "> 'Ticket' indicates the ticket number of the passenger.\n",
    "\n",
    "> 'Fare' indicates the fare of the ticket of the passenger.\n",
    "\n",
    "> 'Cabin' indicates the cabin in which the passenger travelled.\n",
    "\n",
    "> 'Embarked' indicates from where the passenger got into the ship. <br>"
   ]
  },
  {
   "cell_type": "markdown",
   "id": "gentle-tampa",
   "metadata": {},
   "source": [
    "### Dealing with missing values\n",
    "Any missing value in any column is harmful for our prediction process. So we have to deal with them."
   ]
  },
  {
   "cell_type": "code",
   "execution_count": 8,
   "id": "built-photograph",
   "metadata": {},
   "outputs": [
    {
     "data": {
      "text/plain": [
       "PassengerId        0\n",
       "Survived           0\n",
       "Pclass             0\n",
       "Name               0\n",
       "Sex                0\n",
       "Age             3292\n",
       "SibSp              0\n",
       "Parch              0\n",
       "Ticket          4623\n",
       "Fare             134\n",
       "Cabin          67866\n",
       "Embarked         250\n",
       "dtype: int64"
      ]
     },
     "execution_count": 8,
     "metadata": {},
     "output_type": "execute_result"
    }
   ],
   "source": [
    "df.isnull().sum()"
   ]
  },
  {
   "cell_type": "code",
   "execution_count": 9,
   "id": "improved-courage",
   "metadata": {},
   "outputs": [
    {
     "data": {
      "text/plain": [
       "PassengerId     0.000\n",
       "Survived        0.000\n",
       "Pclass          0.000\n",
       "Name            0.000\n",
       "Sex             0.000\n",
       "Age             3.292\n",
       "SibSp           0.000\n",
       "Parch           0.000\n",
       "Ticket          4.623\n",
       "Fare            0.134\n",
       "Cabin          67.866\n",
       "Embarked        0.250\n",
       "dtype: float64"
      ]
     },
     "execution_count": 9,
     "metadata": {},
     "output_type": "execute_result"
    }
   ],
   "source": [
    "missing_percentages = (df.isnull().sum() / df.shape[0]) * 100\n",
    "missing_percentages"
   ]
  },
  {
   "cell_type": "code",
   "execution_count": 10,
   "id": "manual-scientist",
   "metadata": {},
   "outputs": [
    {
     "name": "stdout",
     "output_type": "stream",
     "text": [
      "The percentage of total missing data is : 6.347083333333334 %\n"
     ]
    }
   ],
   "source": [
    "missing_values_count = df.isnull().sum()\n",
    "total_cells = np.product(df.shape)\n",
    "total_missing = missing_values_count.sum()\n",
    "percent_missing = (total_missing / total_cells)*100\n",
    "print(\"The percentage of total missing data is :\", percent_missing, \"%\")"
   ]
  },
  {
   "cell_type": "markdown",
   "id": "valued-omaha",
   "metadata": {},
   "source": [
    "So we have came to know that the total missing percentage is  approximately 6.34% where the column named 'Age', 'Ticket', 'Fare', 'Cabin' and 'Embarked' have missing values in them. \n",
    "We can also observe it by visualization :"
   ]
  },
  {
   "cell_type": "code",
   "execution_count": 11,
   "id": "liked-falls",
   "metadata": {},
   "outputs": [
    {
     "data": {
      "image/png": "[encoded data removed]",
      "text/plain": [
       "<Figure size 720x720 with 2 Axes>"
      ]
     },
     "metadata": {
      "needs_background": "light"
     },
     "output_type": "display_data"
    }
   ],
   "source": [
    "plt.figure(figsize=(10,10))\n",
    "sns.heatmap(df.isnull())\n",
    "plt.show()"
   ]
  },
  {
   "cell_type": "markdown",
   "id": "square-express",
   "metadata": {},
   "source": [
    "Now we will deal with the missing value columns one by one."
   ]
  },
  {
   "cell_type": "markdown",
   "id": "split-bhutan",
   "metadata": {},
   "source": [
    "### Age column"
   ]
  },
  {
   "cell_type": "code",
   "execution_count": 12,
   "id": "welsh-tampa",
   "metadata": {},
   "outputs": [
    {
     "data": {
      "text/plain": [
       "3292"
      ]
     },
     "execution_count": 12,
     "metadata": {},
     "output_type": "execute_result"
    }
   ],
   "source": [
    "df['Age'].isnull().sum()"
   ]
  },
  {
   "cell_type": "code",
   "execution_count": 13,
   "id": "previous-transaction",
   "metadata": {},
   "outputs": [
    {
     "data": {
      "image/png": "[encoded data removed]",
      "text/plain": [
       "<Figure size 432x288 with 1 Axes>"
      ]
     },
     "metadata": {
      "needs_background": "light"
     },
     "output_type": "display_data"
    }
   ],
   "source": [
    "sns.boxplot(x='Pclass',y='Age',data=df);"
   ]
  },
  {
   "cell_type": "markdown",
   "id": "miniature-basketball",
   "metadata": {},
   "source": [
    "From the above plot we can see that for three passenger classes the median age lies between 30 to 50. So we can replace the missing age values with the median values according to their passenger class."
   ]
  },
  {
   "cell_type": "code",
   "execution_count": 14,
   "id": "alternative-theater",
   "metadata": {},
   "outputs": [
    {
     "data": {
      "text/plain": [
       "Pclass\n",
       "1    47.0\n",
       "2    38.0\n",
       "3    30.0\n",
       "Name: Age, dtype: float64"
      ]
     },
     "execution_count": 14,
     "metadata": {},
     "output_type": "execute_result"
    }
   ],
   "source": [
    "medians = df.groupby(['Pclass'])['Age'].median()\n",
    "medians"
   ]
  },
  {
   "cell_type": "code",
   "execution_count": 15,
   "id": "nominated-senate",
   "metadata": {},
   "outputs": [],
   "source": [
    "def impute_age(cols):\n",
    "    Age = cols[0]\n",
    "    Pclass = cols[1]\n",
    "    \n",
    "    if pd.isnull(Age):\n",
    "\n",
    "        if Pclass == 1:\n",
    "            return 47\n",
    "\n",
    "        elif Pclass == 2:\n",
    "            return 38\n",
    "\n",
    "        else:\n",
    "            return 30\n",
    "\n",
    "    else:\n",
    "        return Age"
   ]
  },
  {
   "cell_type": "code",
   "execution_count": 16,
   "id": "indie-admission",
   "metadata": {},
   "outputs": [],
   "source": [
    "df['Age'] = df[['Age','Pclass']].apply(impute_age,axis=1)"
   ]
  },
  {
   "cell_type": "code",
   "execution_count": 17,
   "id": "elegant-owner",
   "metadata": {},
   "outputs": [
    {
     "data": {
      "text/plain": [
       "0"
      ]
     },
     "execution_count": 17,
     "metadata": {},
     "output_type": "execute_result"
    }
   ],
   "source": [
    "df['Age'].isnull().sum()"
   ]
  },
  {
   "cell_type": "markdown",
   "id": "ideal-montgomery",
   "metadata": {},
   "source": [
    "Now there is no missing values in the 'Age' column"
   ]
  },
  {
   "cell_type": "markdown",
   "id": "manual-mixture",
   "metadata": {},
   "source": [
    "### Fare column"
   ]
  },
  {
   "cell_type": "code",
   "execution_count": 18,
   "id": "solar-performer",
   "metadata": {},
   "outputs": [
    {
     "data": {
      "text/plain": [
       "134"
      ]
     },
     "execution_count": 18,
     "metadata": {},
     "output_type": "execute_result"
    }
   ],
   "source": [
    "df['Fare'].isnull().sum()"
   ]
  },
  {
   "cell_type": "code",
   "execution_count": 19,
   "id": "italic-melbourne",
   "metadata": {},
   "outputs": [
    {
     "data": {
      "image/png": "[encoded data removed]",
      "text/plain": [
       "<Figure size 432x288 with 1 Axes>"
      ]
     },
     "metadata": {
      "needs_background": "light"
     },
     "output_type": "display_data"
    }
   ],
   "source": [
    "sns.boxplot(x='Pclass',y='Fare',data=df);"
   ]
  },
  {
   "cell_type": "markdown",
   "id": "statutory-customs",
   "metadata": {},
   "source": [
    "From the above plot we can see that for three passenger classes the median fare lies between 5 to 80. So we can replace the missing fare values with the median values according to their passenger class."
   ]
  },
  {
   "cell_type": "code",
   "execution_count": 20,
   "id": "atmospheric-financing",
   "metadata": {},
   "outputs": [
    {
     "data": {
      "text/plain": [
       "Pclass\n",
       "1    63.58\n",
       "2    22.72\n",
       "3    10.96\n",
       "Name: Fare, dtype: float64"
      ]
     },
     "execution_count": 20,
     "metadata": {},
     "output_type": "execute_result"
    }
   ],
   "source": [
    "medians = df.groupby(['Pclass'])['Fare'].median()\n",
    "medians"
   ]
  },
  {
   "cell_type": "code",
   "execution_count": 21,
   "id": "consistent-anderson",
   "metadata": {},
   "outputs": [],
   "source": [
    "def impute_fare(cols):\n",
    "    Fare = cols[0]\n",
    "    Pclass = cols[1]\n",
    "    \n",
    "    if pd.isnull(Fare):\n",
    "\n",
    "        if Pclass == 1:\n",
    "            return 63.58\n",
    "\n",
    "        elif Pclass == 2:\n",
    "            return 22.72\n",
    "\n",
    "        else:\n",
    "            return 10.96\n",
    "\n",
    "    else:\n",
    "        return Fare"
   ]
  },
  {
   "cell_type": "code",
   "execution_count": 22,
   "id": "virtual-magazine",
   "metadata": {},
   "outputs": [],
   "source": [
    "df['Fare'] = df[['Fare','Pclass']].apply(impute_fare,axis=1)"
   ]
  },
  {
   "cell_type": "code",
   "execution_count": 23,
   "id": "external-council",
   "metadata": {},
   "outputs": [
    {
     "data": {
      "text/plain": [
       "0"
      ]
     },
     "execution_count": 23,
     "metadata": {},
     "output_type": "execute_result"
    }
   ],
   "source": [
    "df['Fare'].isnull().sum()"
   ]
  },
  {
   "cell_type": "markdown",
   "id": "minus-collins",
   "metadata": {},
   "source": [
    "Now there is no missing values in the 'Fare' column."
   ]
  },
  {
   "cell_type": "markdown",
   "id": "median-ethiopia",
   "metadata": {},
   "source": [
    "### Embarked column"
   ]
  },
  {
   "cell_type": "code",
   "execution_count": 24,
   "id": "moved-printer",
   "metadata": {},
   "outputs": [
    {
     "data": {
      "text/plain": [
       "250"
      ]
     },
     "execution_count": 24,
     "metadata": {},
     "output_type": "execute_result"
    }
   ],
   "source": [
    "df['Embarked'].isnull().sum()"
   ]
  },
  {
   "cell_type": "code",
   "execution_count": 25,
   "id": "proper-ribbon",
   "metadata": {},
   "outputs": [
    {
     "data": {
      "text/plain": [
       "S    72139\n",
       "C    22187\n",
       "Q     5424\n",
       "Name: Embarked, dtype: int64"
      ]
     },
     "execution_count": 25,
     "metadata": {},
     "output_type": "execute_result"
    }
   ],
   "source": [
    "df['Embarked'].value_counts()"
   ]
  },
  {
   "cell_type": "code",
   "execution_count": 26,
   "id": "modified-heritage",
   "metadata": {},
   "outputs": [
    {
     "data": {
      "image/png": "[encoded data removed]",
      "text/plain": [
       "<Figure size 432x288 with 1 Axes>"
      ]
     },
     "metadata": {
      "needs_background": "light"
     },
     "output_type": "display_data"
    }
   ],
   "source": [
    "plot = sns.countplot(df[\"Embarked\"]);"
   ]
  },
  {
   "cell_type": "markdown",
   "id": "collected-amsterdam",
   "metadata": {},
   "source": [
    "From the above value counts and the count plot we can see that the value \"S\" of the embarked column has way more higher values than the rest of the values so we can replace the missing values with \"S\"."
   ]
  },
  {
   "cell_type": "code",
   "execution_count": 27,
   "id": "concrete-coordinate",
   "metadata": {},
   "outputs": [],
   "source": [
    "df[\"Embarked\"].fillna(\"S\", inplace = True)"
   ]
  },
  {
   "cell_type": "code",
   "execution_count": 28,
   "id": "stuck-slovenia",
   "metadata": {},
   "outputs": [
    {
     "data": {
      "text/plain": [
       "0"
      ]
     },
     "execution_count": 28,
     "metadata": {},
     "output_type": "execute_result"
    }
   ],
   "source": [
    "df[\"Embarked\"].isnull().sum()"
   ]
  },
  {
   "cell_type": "markdown",
   "id": "binary-seven",
   "metadata": {},
   "source": [
    "Now there is no missing values in the 'Embarked' column."
   ]
  },
  {
   "cell_type": "markdown",
   "id": "laden-challenge",
   "metadata": {},
   "source": [
    "#### Let's look into other columns too:"
   ]
  },
  {
   "cell_type": "code",
   "execution_count": 29,
   "id": "finished-hawaiian",
   "metadata": {},
   "outputs": [
    {
     "data": {
      "text/plain": [
       "PassengerId        0\n",
       "Survived           0\n",
       "Pclass             0\n",
       "Name               0\n",
       "Sex                0\n",
       "Age                0\n",
       "SibSp              0\n",
       "Parch              0\n",
       "Ticket          4623\n",
       "Fare               0\n",
       "Cabin          67866\n",
       "Embarked           0\n",
       "dtype: int64"
      ]
     },
     "execution_count": 29,
     "metadata": {},
     "output_type": "execute_result"
    }
   ],
   "source": [
    "df.isnull().sum()"
   ]
  },
  {
   "cell_type": "markdown",
   "id": "flexible-letter",
   "metadata": {},
   "source": [
    "Here the \"Ticket\" and \"Cabin\" column has missing values too."
   ]
  },
  {
   "cell_type": "markdown",
   "id": "close-paraguay",
   "metadata": {},
   "source": [
    "### Dropping unuseful columns"
   ]
  },
  {
   "cell_type": "markdown",
   "id": "secondary-omaha",
   "metadata": {},
   "source": [
    "Here the \"PassengerID\" \"Name\" and \"Ticket\" column does not have a good impact on the output column so we can drop these columns. We can also drop the \"Cabin\" column as there are so many missing values in that column.\n",
    "\n",
    "But we will not drop the \"PassengerID\" column until the end because it is a unique identification column which can help us to identify the characteristics of a certain passenger."
   ]
  },
  {
   "cell_type": "code",
   "execution_count": 30,
   "id": "political-assumption",
   "metadata": {},
   "outputs": [],
   "source": [
    "df.drop(['Ticket', 'Name', 'Cabin'], axis =1, inplace = True)"
   ]
  },
  {
   "cell_type": "code",
   "execution_count": 31,
   "id": "functioning-syndrome",
   "metadata": {},
   "outputs": [
    {
     "data": {
      "text/html": [
       "<div>\n",
       "<style scoped>\n",
       "    .dataframe tbody tr th:only-of-type {\n",
       "        vertical-align: middle;\n",
       "    }\n",
       "\n",
       "    .dataframe tbody tr th {\n",
       "        vertical-align: top;\n",
       "    }\n",
       "\n",
       "    .dataframe thead th {\n",
       "        text-align: right;\n",
       "    }\n",
       "</style>\n",
       "<table border=\"1\" class=\"dataframe\">\n",
       "  <thead>\n",
       "    <tr style=\"text-align: right;\">\n",
       "      <th></th>\n",
       "      <th>PassengerId</th>\n",
       "      <th>Survived</th>\n",
       "      <th>Pclass</th>\n",
       "      <th>Sex</th>\n",
       "      <th>Age</th>\n",
       "      <th>SibSp</th>\n",
       "      <th>Parch</th>\n",
       "      <th>Fare</th>\n",
       "      <th>Embarked</th>\n",
       "    </tr>\n",
       "  </thead>\n",
       "  <tbody>\n",
       "    <tr>\n",
       "      <th>0</th>\n",
       "      <td>0</td>\n",
       "      <td>1</td>\n",
       "      <td>1</td>\n",
       "      <td>male</td>\n",
       "      <td>47.00</td>\n",
       "      <td>2</td>\n",
       "      <td>0</td>\n",
       "      <td>27.14</td>\n",
       "      <td>S</td>\n",
       "    </tr>\n",
       "    <tr>\n",
       "      <th>1</th>\n",
       "      <td>1</td>\n",
       "      <td>0</td>\n",
       "      <td>3</td>\n",
       "      <td>male</td>\n",
       "      <td>30.00</td>\n",
       "      <td>0</td>\n",
       "      <td>0</td>\n",
       "      <td>13.35</td>\n",
       "      <td>S</td>\n",
       "    </tr>\n",
       "    <tr>\n",
       "      <th>2</th>\n",
       "      <td>2</td>\n",
       "      <td>0</td>\n",
       "      <td>3</td>\n",
       "      <td>male</td>\n",
       "      <td>0.33</td>\n",
       "      <td>1</td>\n",
       "      <td>2</td>\n",
       "      <td>71.29</td>\n",
       "      <td>S</td>\n",
       "    </tr>\n",
       "    <tr>\n",
       "      <th>3</th>\n",
       "      <td>3</td>\n",
       "      <td>0</td>\n",
       "      <td>3</td>\n",
       "      <td>male</td>\n",
       "      <td>19.00</td>\n",
       "      <td>0</td>\n",
       "      <td>0</td>\n",
       "      <td>13.04</td>\n",
       "      <td>S</td>\n",
       "    </tr>\n",
       "    <tr>\n",
       "      <th>4</th>\n",
       "      <td>4</td>\n",
       "      <td>1</td>\n",
       "      <td>3</td>\n",
       "      <td>male</td>\n",
       "      <td>25.00</td>\n",
       "      <td>0</td>\n",
       "      <td>0</td>\n",
       "      <td>7.76</td>\n",
       "      <td>S</td>\n",
       "    </tr>\n",
       "  </tbody>\n",
       "</table>\n",
       "</div>"
      ],
      "text/plain": [
       "   PassengerId  Survived  Pclass   Sex    Age  SibSp  Parch   Fare Embarked\n",
       "0            0         1       1  male  47.00      2      0  27.14        S\n",
       "1            1         0       3  male  30.00      0      0  13.35        S\n",
       "2            2         0       3  male   0.33      1      2  71.29        S\n",
       "3            3         0       3  male  19.00      0      0  13.04        S\n",
       "4            4         1       3  male  25.00      0      0   7.76        S"
      ]
     },
     "execution_count": 31,
     "metadata": {},
     "output_type": "execute_result"
    }
   ],
   "source": [
    "df.head()"
   ]
  },
  {
   "cell_type": "markdown",
   "id": "manufactured-upper",
   "metadata": {},
   "source": [
    "### Handling Outliers\n",
    "An outlier is an observation that lies an abnormal distance from other values in a column which can affect our prediction accuracy so we need to remove them"
   ]
  },
  {
   "cell_type": "markdown",
   "id": "warming-attraction",
   "metadata": {},
   "source": [
    "Lets make a copy of our dataset before doing outlier analysis. So if anything unwanted happens it will not affect our main dataset."
   ]
  },
  {
   "cell_type": "code",
   "execution_count": 32,
   "id": "nervous-faith",
   "metadata": {},
   "outputs": [],
   "source": [
    "df2 = df.copy()"
   ]
  },
  {
   "cell_type": "code",
   "execution_count": 33,
   "id": "opposed-fields",
   "metadata": {},
   "outputs": [
    {
     "data": {
      "text/html": [
       "<div>\n",
       "<style scoped>\n",
       "    .dataframe tbody tr th:only-of-type {\n",
       "        vertical-align: middle;\n",
       "    }\n",
       "\n",
       "    .dataframe tbody tr th {\n",
       "        vertical-align: top;\n",
       "    }\n",
       "\n",
       "    .dataframe thead th {\n",
       "        text-align: right;\n",
       "    }\n",
       "</style>\n",
       "<table border=\"1\" class=\"dataframe\">\n",
       "  <thead>\n",
       "    <tr style=\"text-align: right;\">\n",
       "      <th></th>\n",
       "      <th>PassengerId</th>\n",
       "      <th>Survived</th>\n",
       "      <th>Pclass</th>\n",
       "      <th>Sex</th>\n",
       "      <th>Age</th>\n",
       "      <th>SibSp</th>\n",
       "      <th>Parch</th>\n",
       "      <th>Fare</th>\n",
       "      <th>Embarked</th>\n",
       "    </tr>\n",
       "  </thead>\n",
       "  <tbody>\n",
       "    <tr>\n",
       "      <th>0</th>\n",
       "      <td>0</td>\n",
       "      <td>1</td>\n",
       "      <td>1</td>\n",
       "      <td>male</td>\n",
       "      <td>47.00</td>\n",
       "      <td>2</td>\n",
       "      <td>0</td>\n",
       "      <td>27.14</td>\n",
       "      <td>S</td>\n",
       "    </tr>\n",
       "    <tr>\n",
       "      <th>1</th>\n",
       "      <td>1</td>\n",
       "      <td>0</td>\n",
       "      <td>3</td>\n",
       "      <td>male</td>\n",
       "      <td>30.00</td>\n",
       "      <td>0</td>\n",
       "      <td>0</td>\n",
       "      <td>13.35</td>\n",
       "      <td>S</td>\n",
       "    </tr>\n",
       "    <tr>\n",
       "      <th>2</th>\n",
       "      <td>2</td>\n",
       "      <td>0</td>\n",
       "      <td>3</td>\n",
       "      <td>male</td>\n",
       "      <td>0.33</td>\n",
       "      <td>1</td>\n",
       "      <td>2</td>\n",
       "      <td>71.29</td>\n",
       "      <td>S</td>\n",
       "    </tr>\n",
       "    <tr>\n",
       "      <th>3</th>\n",
       "      <td>3</td>\n",
       "      <td>0</td>\n",
       "      <td>3</td>\n",
       "      <td>male</td>\n",
       "      <td>19.00</td>\n",
       "      <td>0</td>\n",
       "      <td>0</td>\n",
       "      <td>13.04</td>\n",
       "      <td>S</td>\n",
       "    </tr>\n",
       "    <tr>\n",
       "      <th>4</th>\n",
       "      <td>4</td>\n",
       "      <td>1</td>\n",
       "      <td>3</td>\n",
       "      <td>male</td>\n",
       "      <td>25.00</td>\n",
       "      <td>0</td>\n",
       "      <td>0</td>\n",
       "      <td>7.76</td>\n",
       "      <td>S</td>\n",
       "    </tr>\n",
       "  </tbody>\n",
       "</table>\n",
       "</div>"
      ],
      "text/plain": [
       "   PassengerId  Survived  Pclass   Sex    Age  SibSp  Parch   Fare Embarked\n",
       "0            0         1       1  male  47.00      2      0  27.14        S\n",
       "1            1         0       3  male  30.00      0      0  13.35        S\n",
       "2            2         0       3  male   0.33      1      2  71.29        S\n",
       "3            3         0       3  male  19.00      0      0  13.04        S\n",
       "4            4         1       3  male  25.00      0      0   7.76        S"
      ]
     },
     "execution_count": 33,
     "metadata": {},
     "output_type": "execute_result"
    }
   ],
   "source": [
    "df2.head()"
   ]
  },
  {
   "cell_type": "markdown",
   "id": "noble-patch",
   "metadata": {},
   "source": [
    "### Univariate Analysis\n",
    "Analyze data over a single column from the dataset"
   ]
  },
  {
   "cell_type": "markdown",
   "id": "naughty-absence",
   "metadata": {},
   "source": [
    "#### Passenger Class column"
   ]
  },
  {
   "cell_type": "code",
   "execution_count": 34,
   "id": "incorporate-interval",
   "metadata": {},
   "outputs": [
    {
     "data": {
      "text/plain": [
       "3    41.006\n",
       "1    30.315\n",
       "2    28.679\n",
       "Name: Pclass, dtype: float64"
      ]
     },
     "execution_count": 34,
     "metadata": {},
     "output_type": "execute_result"
    }
   ],
   "source": [
    "df2['Pclass'].value_counts(normalize=True)*100"
   ]
  },
  {
   "cell_type": "code",
   "execution_count": 35,
   "id": "balanced-keyboard",
   "metadata": {},
   "outputs": [
    {
     "data": {
      "image/png": "[encoded data removed]",
      "text/plain": [
       "<Figure size 432x288 with 1 Axes>"
      ]
     },
     "metadata": {
      "needs_background": "light"
     },
     "output_type": "display_data"
    }
   ],
   "source": [
    "df2['Pclass'].value_counts(normalize=True).plot.bar()\n",
    "plt.show()"
   ]
  },
  {
   "cell_type": "markdown",
   "id": "alert-teaching",
   "metadata": {},
   "source": [
    "From the above count and plot we can say that 3rd class has the highest percentage of passengers and rest of the class has quite similar percentage of passenger but there are no outliers found."
   ]
  },
  {
   "cell_type": "markdown",
   "id": "enabling-nightlife",
   "metadata": {},
   "source": [
    "#### Sex Column"
   ]
  },
  {
   "cell_type": "code",
   "execution_count": 36,
   "id": "owned-seeker",
   "metadata": {},
   "outputs": [
    {
     "data": {
      "text/plain": [
       "male      56.114\n",
       "female    43.886\n",
       "Name: Sex, dtype: float64"
      ]
     },
     "execution_count": 36,
     "metadata": {},
     "output_type": "execute_result"
    }
   ],
   "source": [
    "df2['Sex'].value_counts(normalize=True)*100"
   ]
  },
  {
   "cell_type": "code",
   "execution_count": 37,
   "id": "harmful-medline",
   "metadata": {},
   "outputs": [
    {
     "data": {
      "image/png": "[encoded data removed]",
      "text/plain": [
       "<Figure size 432x288 with 1 Axes>"
      ]
     },
     "metadata": {
      "needs_background": "light"
     },
     "output_type": "display_data"
    }
   ],
   "source": [
    "df2['Sex'].value_counts(normalize=True).plot.bar()\n",
    "plt.show()"
   ]
  },
  {
   "cell_type": "markdown",
   "id": "needed-analyst",
   "metadata": {},
   "source": [
    "From the above count and plot we can say that there are more male passengers than female. But there are no outliers here."
   ]
  },
  {
   "cell_type": "markdown",
   "id": "packed-reading",
   "metadata": {},
   "source": [
    "##### SibSp column"
   ]
  },
  {
   "cell_type": "code",
   "execution_count": 38,
   "id": "closing-genre",
   "metadata": {},
   "outputs": [
    {
     "data": {
      "text/plain": [
       "0    73.308\n",
       "1    19.758\n",
       "2     3.703\n",
       "3     1.635\n",
       "4     1.168\n",
       "8     0.296\n",
       "5     0.132\n",
       "Name: SibSp, dtype: float64"
      ]
     },
     "execution_count": 38,
     "metadata": {},
     "output_type": "execute_result"
    }
   ],
   "source": [
    "df2['SibSp'].value_counts(normalize = True)*100"
   ]
  },
  {
   "cell_type": "code",
   "execution_count": 39,
   "id": "conservative-premium",
   "metadata": {},
   "outputs": [
    {
     "data": {
      "image/png": "[encoded data removed]",
      "text/plain": [
       "<Figure size 432x288 with 1 Axes>"
      ]
     },
     "metadata": {
      "needs_background": "light"
     },
     "output_type": "display_data"
    }
   ],
   "source": [
    "df2['SibSp'].value_counts(normalize = True).plot.bar()\n",
    "plt.show()"
   ]
  },
  {
   "cell_type": "code",
   "execution_count": 40,
   "id": "arctic-moisture",
   "metadata": {},
   "outputs": [],
   "source": [
    "SibSp_out = df2['SibSp'] <= 5"
   ]
  },
  {
   "cell_type": "code",
   "execution_count": 41,
   "id": "egyptian-vatican",
   "metadata": {},
   "outputs": [
    {
     "data": {
      "text/plain": [
       "296"
      ]
     },
     "execution_count": 41,
     "metadata": {},
     "output_type": "execute_result"
    }
   ],
   "source": [
    "np.size(SibSp_out) - np.count_nonzero(SibSp_out)"
   ]
  },
  {
   "cell_type": "code",
   "execution_count": 42,
   "id": "enhanced-springfield",
   "metadata": {},
   "outputs": [],
   "source": [
    "df2 = df2[SibSp_out]"
   ]
  },
  {
   "cell_type": "markdown",
   "id": "diverse-awareness",
   "metadata": {},
   "source": [
    "Here we have analyzied that less than 0.5 percent of the passenger has five or more siblings with them so we have marked them as an outlier and removed them."
   ]
  },
  {
   "cell_type": "markdown",
   "id": "ongoing-column",
   "metadata": {},
   "source": [
    "##### Parch column"
   ]
  },
  {
   "cell_type": "code",
   "execution_count": 43,
   "id": "upper-radar",
   "metadata": {},
   "outputs": [
    {
     "data": {
      "text/plain": [
       "0    73.663043\n",
       "1    12.900185\n",
       "2    11.212188\n",
       "3     0.982909\n",
       "4     0.447324\n",
       "5     0.327971\n",
       "9     0.262778\n",
       "6     0.203603\n",
       "Name: Parch, dtype: float64"
      ]
     },
     "execution_count": 43,
     "metadata": {},
     "output_type": "execute_result"
    }
   ],
   "source": [
    "df2['Parch'].value_counts(normalize=True)*100"
   ]
  },
  {
   "cell_type": "code",
   "execution_count": 44,
   "id": "particular-writing",
   "metadata": {},
   "outputs": [
    {
     "data": {
      "image/png": "[encoded data removed]",
      "text/plain": [
       "<Figure size 432x288 with 1 Axes>"
      ]
     },
     "metadata": {
      "needs_background": "light"
     },
     "output_type": "display_data"
    }
   ],
   "source": [
    "df2['Parch'].value_counts(normalize=True).plot.bar()\n",
    "plt.show()"
   ]
  },
  {
   "cell_type": "code",
   "execution_count": 45,
   "id": "lovely-shame",
   "metadata": {},
   "outputs": [],
   "source": [
    "Parch_out = df2['Parch'] <= 4"
   ]
  },
  {
   "cell_type": "code",
   "execution_count": 46,
   "id": "asian-blame",
   "metadata": {},
   "outputs": [
    {
     "data": {
      "text/plain": [
       "792"
      ]
     },
     "execution_count": 46,
     "metadata": {},
     "output_type": "execute_result"
    }
   ],
   "source": [
    "np.size(Parch_out) - np.count_nonzero(Parch_out)"
   ]
  },
  {
   "cell_type": "code",
   "execution_count": 47,
   "id": "sealed-shopping",
   "metadata": {},
   "outputs": [],
   "source": [
    "df2 = df2[Parch_out]"
   ]
  },
  {
   "cell_type": "markdown",
   "id": "persistent-ultimate",
   "metadata": {},
   "source": [
    "Here we have analyzied that less than 0.5 percent of the passenger has four or more parents/children with them so we have marked them as an outlier and removed them."
   ]
  },
  {
   "cell_type": "markdown",
   "id": "latest-producer",
   "metadata": {},
   "source": [
    "#### Embarked column"
   ]
  },
  {
   "cell_type": "code",
   "execution_count": 48,
   "id": "thirty-argument",
   "metadata": {},
   "outputs": [
    {
     "data": {
      "text/plain": [
       "S    72.410830\n",
       "C    22.176278\n",
       "Q     5.412892\n",
       "Name: Embarked, dtype: float64"
      ]
     },
     "execution_count": 48,
     "metadata": {},
     "output_type": "execute_result"
    }
   ],
   "source": [
    "df2['Embarked'].value_counts(normalize=True)*100"
   ]
  },
  {
   "cell_type": "code",
   "execution_count": 49,
   "id": "needed-junior",
   "metadata": {},
   "outputs": [
    {
     "data": {
      "image/png": "[encoded data removed]",
      "text/plain": [
       "<Figure size 360x360 with 1 Axes>"
      ]
     },
     "metadata": {},
     "output_type": "display_data"
    }
   ],
   "source": [
    "pie_data = df2['Embarked'].value_counts()\n",
    "plot = pie_data.plot(kind='pie',\n",
    "                     subplots=True,\n",
    "                     figsize=(5,5))"
   ]
  },
  {
   "cell_type": "markdown",
   "id": "agricultural-christian",
   "metadata": {},
   "source": [
    "From above plot and counting we can say most of the people got into the ship from the \"S\" point then the \"C\" point and then the \"Q\" point. We can see no outliers here."
   ]
  },
  {
   "cell_type": "markdown",
   "id": "velvet-anthropology",
   "metadata": {},
   "source": [
    "### Age column"
   ]
  },
  {
   "cell_type": "code",
   "execution_count": 50,
   "id": "joined-voluntary",
   "metadata": {},
   "outputs": [
    {
     "data": {
      "image/png": "[encoded data removed]",
      "text/plain": [
       "<Figure size 432x288 with 1 Axes>"
      ]
     },
     "metadata": {
      "needs_background": "light"
     },
     "output_type": "display_data"
    }
   ],
   "source": [
    "plot = sns.boxplot(y=df2[\"Age\"])"
   ]
  },
  {
   "cell_type": "markdown",
   "id": "comprehensive-importance",
   "metadata": {},
   "source": [
    "From the above box plot we can see there are no outliers in the age column"
   ]
  },
  {
   "cell_type": "markdown",
   "id": "robust-situation",
   "metadata": {},
   "source": [
    "#### Fare column"
   ]
  },
  {
   "cell_type": "code",
   "execution_count": 51,
   "id": "pregnant-sheffield",
   "metadata": {},
   "outputs": [],
   "source": [
    "df3 = df2.copy()"
   ]
  },
  {
   "cell_type": "code",
   "execution_count": 52,
   "id": "smooth-nutrition",
   "metadata": {},
   "outputs": [
    {
     "data": {
      "image/png": "[encoded data removed]",
      "text/plain": [
       "<Figure size 432x288 with 1 Axes>"
      ]
     },
     "metadata": {
      "needs_background": "light"
     },
     "output_type": "display_data"
    }
   ],
   "source": [
    "sns.distplot(df3.Fare, axlabel='Fare');"
   ]
  },
  {
   "cell_type": "code",
   "execution_count": 53,
   "id": "neutral-carry",
   "metadata": {},
   "outputs": [
    {
     "data": {
      "text/plain": [
       "19.59720032654365"
      ]
     },
     "execution_count": 53,
     "metadata": {},
     "output_type": "execute_result"
    }
   ],
   "source": [
    "df3[\"Fare\"].kurtosis()"
   ]
  },
  {
   "cell_type": "code",
   "execution_count": 54,
   "id": "present-photography",
   "metadata": {},
   "outputs": [
    {
     "data": {
      "text/plain": [
       "3.919033590795179"
      ]
     },
     "execution_count": 54,
     "metadata": {},
     "output_type": "execute_result"
    }
   ],
   "source": [
    "df3[\"Fare\"].skew()"
   ]
  },
  {
   "cell_type": "code",
   "execution_count": 55,
   "id": "meaningful-tennis",
   "metadata": {},
   "outputs": [
    {
     "data": {
      "image/png": "[encoded data removed]",
      "text/plain": [
       "<Figure size 432x288 with 1 Axes>"
      ]
     },
     "metadata": {
      "needs_background": "light"
     },
     "output_type": "display_data"
    }
   ],
   "source": [
    "plot = sns.boxplot(y = df3['Fare'])"
   ]
  },
  {
   "cell_type": "code",
   "execution_count": 56,
   "id": "involved-opening",
   "metadata": {},
   "outputs": [],
   "source": [
    "Fare_out = df3['Fare'] <= 55"
   ]
  },
  {
   "cell_type": "code",
   "execution_count": 57,
   "id": "meaningful-illness",
   "metadata": {},
   "outputs": [
    {
     "data": {
      "text/plain": [
       "20736"
      ]
     },
     "execution_count": 57,
     "metadata": {},
     "output_type": "execute_result"
    }
   ],
   "source": [
    "np.size(Fare_out) - np.count_nonzero(Fare_out)"
   ]
  },
  {
   "cell_type": "markdown",
   "id": "interstate-stake",
   "metadata": {},
   "source": [
    "As we can see the amount of outliers in the 'Fare' column is very high and if we remove all of them it may harm our predictions. So we have to deal with it in another way."
   ]
  },
  {
   "cell_type": "markdown",
   "id": "hairy-share",
   "metadata": {},
   "source": [
    "### Bivariate Analysis\n",
    "Analyze two variable columns from the dataset"
   ]
  },
  {
   "cell_type": "markdown",
   "id": "further-shooting",
   "metadata": {},
   "source": [
    "Lets Compare the 'Pclass' and 'Fare' column:"
   ]
  },
  {
   "cell_type": "code",
   "execution_count": 58,
   "id": "english-adjustment",
   "metadata": {},
   "outputs": [],
   "source": [
    "df4 = df3.copy()"
   ]
  },
  {
   "cell_type": "code",
   "execution_count": 59,
   "id": "respective-morning",
   "metadata": {},
   "outputs": [
    {
     "data": {
      "text/plain": [
       "(98912, 9)"
      ]
     },
     "execution_count": 59,
     "metadata": {},
     "output_type": "execute_result"
    }
   ],
   "source": [
    "df4.shape"
   ]
  },
  {
   "cell_type": "code",
   "execution_count": 60,
   "id": "apart-license",
   "metadata": {
    "scrolled": true
   },
   "outputs": [
    {
     "data": {
      "text/plain": [
       "<AxesSubplot:xlabel='Pclass', ylabel='Fare'>"
      ]
     },
     "execution_count": 60,
     "metadata": {},
     "output_type": "execute_result"
    },
    {
     "data": {
      "image/png": "[encoded data removed]",
      "text/plain": [
       "<Figure size 360x720 with 1 Axes>"
      ]
     },
     "metadata": {
      "needs_background": "light"
     },
     "output_type": "display_data"
    }
   ],
   "source": [
    "fig_dims = (5, 10)\n",
    "fig, ax = plt.subplots(figsize=fig_dims)\n",
    "sns.boxplot(\"Pclass\", \"Fare\", data=df4, ax=ax)"
   ]
  },
  {
   "cell_type": "code",
   "execution_count": 61,
   "id": "confused-bidder",
   "metadata": {},
   "outputs": [
    {
     "data": {
      "text/plain": [
       "Pclass\n",
       "1    63.58\n",
       "2    22.65\n",
       "3    10.94\n",
       "Name: Fare, dtype: float64"
      ]
     },
     "execution_count": 61,
     "metadata": {},
     "output_type": "execute_result"
    }
   ],
   "source": [
    "medians = df4.groupby(['Pclass'])['Fare'].median()\n",
    "medians"
   ]
  },
  {
   "cell_type": "markdown",
   "id": "sweet-consistency",
   "metadata": {},
   "source": [
    "As we can see a relationship between these two columns.\n",
    "Now we will replace the outliers of 'Fare' column according to their \"Pclass\" column. "
   ]
  },
  {
   "cell_type": "code",
   "execution_count": 62,
   "id": "convenient-dairy",
   "metadata": {},
   "outputs": [],
   "source": [
    "df4 = df3.copy()"
   ]
  },
  {
   "cell_type": "code",
   "execution_count": 63,
   "id": "twenty-adolescent",
   "metadata": {},
   "outputs": [],
   "source": [
    "def impute_fare(cols):\n",
    "    Fare = cols[0]\n",
    "    Pclass = cols[1]\n",
    "\n",
    "    if Pclass == 1:\n",
    "        if Fare > 117:\n",
    "            return 63.58\n",
    "    if Pclass == 2:\n",
    "        if Fare > 54:\n",
    "            return 22.65\n",
    "    if Pclass == 3:\n",
    "        if Fare > 39:\n",
    "            return 10.94\n",
    "        else:\n",
    "            return Fare\n",
    "    else:\n",
    "        return Fare"
   ]
  },
  {
   "cell_type": "code",
   "execution_count": 64,
   "id": "southwest-mission",
   "metadata": {},
   "outputs": [],
   "source": [
    "df4['Fare'] = df4[['Fare','Pclass']].apply(impute_fare,axis=1)"
   ]
  },
  {
   "cell_type": "code",
   "execution_count": 65,
   "id": "strange-haven",
   "metadata": {},
   "outputs": [
    {
     "data": {
      "image/png": "[encoded data removed]",
      "text/plain": [
       "<Figure size 360x720 with 1 Axes>"
      ]
     },
     "metadata": {
      "needs_background": "light"
     },
     "output_type": "display_data"
    }
   ],
   "source": [
    "fig_dims = (5, 10)\n",
    "fig, ax = plt.subplots(figsize=fig_dims)\n",
    "sns.boxplot(\"Pclass\", \"Fare\", data=df4, ax=ax);"
   ]
  },
  {
   "cell_type": "code",
   "execution_count": 66,
   "id": "acoustic-portugal",
   "metadata": {},
   "outputs": [
    {
     "data": {
      "text/html": [
       "<div>\n",
       "<style scoped>\n",
       "    .dataframe tbody tr th:only-of-type {\n",
       "        vertical-align: middle;\n",
       "    }\n",
       "\n",
       "    .dataframe tbody tr th {\n",
       "        vertical-align: top;\n",
       "    }\n",
       "\n",
       "    .dataframe thead th {\n",
       "        text-align: right;\n",
       "    }\n",
       "</style>\n",
       "<table border=\"1\" class=\"dataframe\">\n",
       "  <thead>\n",
       "    <tr style=\"text-align: right;\">\n",
       "      <th></th>\n",
       "      <th>count</th>\n",
       "      <th>mean</th>\n",
       "      <th>std</th>\n",
       "      <th>min</th>\n",
       "      <th>25%</th>\n",
       "      <th>50%</th>\n",
       "      <th>75%</th>\n",
       "      <th>max</th>\n",
       "    </tr>\n",
       "  </thead>\n",
       "  <tbody>\n",
       "    <tr>\n",
       "      <th>Pclass</th>\n",
       "      <td>98912.0</td>\n",
       "      <td>2.106286</td>\n",
       "      <td>0.838241</td>\n",
       "      <td>1.00</td>\n",
       "      <td>1.00</td>\n",
       "      <td>2.00</td>\n",
       "      <td>3.00</td>\n",
       "      <td>3.0</td>\n",
       "    </tr>\n",
       "    <tr>\n",
       "      <th>Fare</th>\n",
       "      <td>98912.0</td>\n",
       "      <td>26.814545</td>\n",
       "      <td>22.555964</td>\n",
       "      <td>0.68</td>\n",
       "      <td>10.02</td>\n",
       "      <td>22.65</td>\n",
       "      <td>31.14</td>\n",
       "      <td>117.0</td>\n",
       "    </tr>\n",
       "  </tbody>\n",
       "</table>\n",
       "</div>"
      ],
      "text/plain": [
       "          count       mean        std   min    25%    50%    75%    max\n",
       "Pclass  98912.0   2.106286   0.838241  1.00   1.00   2.00   3.00    3.0\n",
       "Fare    98912.0  26.814545  22.555964  0.68  10.02  22.65  31.14  117.0"
      ]
     },
     "execution_count": 66,
     "metadata": {},
     "output_type": "execute_result"
    }
   ],
   "source": [
    "df4[[\"Pclass\", 'Fare']].describe().transpose()"
   ]
  },
  {
   "cell_type": "markdown",
   "id": "secondary-investor",
   "metadata": {},
   "source": [
    "This is how we have handled the outliers in the 'Fare' column."
   ]
  },
  {
   "cell_type": "markdown",
   "id": "protective-characterization",
   "metadata": {},
   "source": [
    "##### Passenger Class VS Sex:"
   ]
  },
  {
   "cell_type": "code",
   "execution_count": 67,
   "id": "average-syntax",
   "metadata": {},
   "outputs": [
    {
     "data": {
      "image/png": "[encoded data removed]",
      "text/plain": [
       "<Figure size 430.5x360 with 1 Axes>"
      ]
     },
     "metadata": {
      "needs_background": "light"
     },
     "output_type": "display_data"
    }
   ],
   "source": [
    "sns.factorplot('Pclass',data=df4,hue='Sex',kind='count');"
   ]
  },
  {
   "cell_type": "markdown",
   "id": "offshore-subdivision",
   "metadata": {},
   "source": [
    "From above plot we can see most people are from the 3rd class and the count ratio is higher for male passengers than female."
   ]
  },
  {
   "cell_type": "code",
   "execution_count": 68,
   "id": "descending-worry",
   "metadata": {},
   "outputs": [
    {
     "data": {
      "image/png": "[encoded data removed]",
      "text/plain": [
       "<Figure size 432x288 with 1 Axes>"
      ]
     },
     "metadata": {
      "needs_background": "light"
     },
     "output_type": "display_data"
    }
   ],
   "source": [
    "sns.barplot(x='Pclass', y='Survived', data=df4);"
   ]
  },
  {
   "cell_type": "markdown",
   "id": "appointed-overall",
   "metadata": {},
   "source": [
    "From above plot we can see that the survival ratio for 1st and 2nd class are almost same but it's lowest for the 3rd class passengers."
   ]
  },
  {
   "cell_type": "markdown",
   "id": "becoming-fishing",
   "metadata": {},
   "source": [
    "##### Passenger Sex vs Survival Rate:"
   ]
  },
  {
   "cell_type": "code",
   "execution_count": 69,
   "id": "alpine-marks",
   "metadata": {},
   "outputs": [
    {
     "data": {
      "text/plain": [
       "<AxesSubplot:xlabel='Sex', ylabel='Survived'>"
      ]
     },
     "execution_count": 69,
     "metadata": {},
     "output_type": "execute_result"
    },
    {
     "data": {
      "image/png": "[encoded data removed]",
      "text/plain": [
       "<Figure size 432x288 with 1 Axes>"
      ]
     },
     "metadata": {
      "needs_background": "light"
     },
     "output_type": "display_data"
    }
   ],
   "source": [
    "sns.barplot(x='Sex', y='Survived', data=df4)"
   ]
  },
  {
   "cell_type": "markdown",
   "id": "threatened-pressing",
   "metadata": {},
   "source": [
    "From above plot we can see that the survival rate of female passengers are much higher than the male passengers."
   ]
  },
  {
   "cell_type": "markdown",
   "id": "distant-control",
   "metadata": {},
   "source": [
    "### Multivariate Analysis\n",
    "Analyze more than two variable columns from the dataset"
   ]
  },
  {
   "cell_type": "code",
   "execution_count": 70,
   "id": "lined-muslim",
   "metadata": {},
   "outputs": [],
   "source": [
    "df5 = df4.copy()"
   ]
  },
  {
   "cell_type": "code",
   "execution_count": 71,
   "id": "arranged-building",
   "metadata": {},
   "outputs": [
    {
     "data": {
      "text/html": [
       "<div>\n",
       "<style scoped>\n",
       "    .dataframe tbody tr th:only-of-type {\n",
       "        vertical-align: middle;\n",
       "    }\n",
       "\n",
       "    .dataframe tbody tr th {\n",
       "        vertical-align: top;\n",
       "    }\n",
       "\n",
       "    .dataframe thead th {\n",
       "        text-align: right;\n",
       "    }\n",
       "</style>\n",
       "<table border=\"1\" class=\"dataframe\">\n",
       "  <thead>\n",
       "    <tr style=\"text-align: right;\">\n",
       "      <th></th>\n",
       "      <th>PassengerId</th>\n",
       "      <th>Survived</th>\n",
       "      <th>Pclass</th>\n",
       "      <th>Sex</th>\n",
       "      <th>Age</th>\n",
       "      <th>SibSp</th>\n",
       "      <th>Parch</th>\n",
       "      <th>Fare</th>\n",
       "      <th>Embarked</th>\n",
       "    </tr>\n",
       "  </thead>\n",
       "  <tbody>\n",
       "    <tr>\n",
       "      <th>0</th>\n",
       "      <td>0</td>\n",
       "      <td>1</td>\n",
       "      <td>1</td>\n",
       "      <td>male</td>\n",
       "      <td>47.00</td>\n",
       "      <td>2</td>\n",
       "      <td>0</td>\n",
       "      <td>27.14</td>\n",
       "      <td>S</td>\n",
       "    </tr>\n",
       "    <tr>\n",
       "      <th>1</th>\n",
       "      <td>1</td>\n",
       "      <td>0</td>\n",
       "      <td>3</td>\n",
       "      <td>male</td>\n",
       "      <td>30.00</td>\n",
       "      <td>0</td>\n",
       "      <td>0</td>\n",
       "      <td>13.35</td>\n",
       "      <td>S</td>\n",
       "    </tr>\n",
       "    <tr>\n",
       "      <th>2</th>\n",
       "      <td>2</td>\n",
       "      <td>0</td>\n",
       "      <td>3</td>\n",
       "      <td>male</td>\n",
       "      <td>0.33</td>\n",
       "      <td>1</td>\n",
       "      <td>2</td>\n",
       "      <td>10.94</td>\n",
       "      <td>S</td>\n",
       "    </tr>\n",
       "    <tr>\n",
       "      <th>3</th>\n",
       "      <td>3</td>\n",
       "      <td>0</td>\n",
       "      <td>3</td>\n",
       "      <td>male</td>\n",
       "      <td>19.00</td>\n",
       "      <td>0</td>\n",
       "      <td>0</td>\n",
       "      <td>13.04</td>\n",
       "      <td>S</td>\n",
       "    </tr>\n",
       "    <tr>\n",
       "      <th>4</th>\n",
       "      <td>4</td>\n",
       "      <td>1</td>\n",
       "      <td>3</td>\n",
       "      <td>male</td>\n",
       "      <td>25.00</td>\n",
       "      <td>0</td>\n",
       "      <td>0</td>\n",
       "      <td>7.76</td>\n",
       "      <td>S</td>\n",
       "    </tr>\n",
       "  </tbody>\n",
       "</table>\n",
       "</div>"
      ],
      "text/plain": [
       "   PassengerId  Survived  Pclass   Sex    Age  SibSp  Parch   Fare Embarked\n",
       "0            0         1       1  male  47.00      2      0  27.14        S\n",
       "1            1         0       3  male  30.00      0      0  13.35        S\n",
       "2            2         0       3  male   0.33      1      2  10.94        S\n",
       "3            3         0       3  male  19.00      0      0  13.04        S\n",
       "4            4         1       3  male  25.00      0      0   7.76        S"
      ]
     },
     "execution_count": 71,
     "metadata": {},
     "output_type": "execute_result"
    }
   ],
   "source": [
    "df5.head()"
   ]
  },
  {
   "cell_type": "code",
   "execution_count": 72,
   "id": "polish-planet",
   "metadata": {},
   "outputs": [
    {
     "name": "stdout",
     "output_type": "stream",
     "text": [
      "Sex         female      male\n",
      "Embarked                    \n",
      "C         0.848063  0.516790\n",
      "Q         0.699395  0.348553\n",
      "S         0.626531  0.159924\n"
     ]
    }
   ],
   "source": [
    "result = pd.pivot_table(data=df5, index='Embarked', columns='Sex',values='Survived')\n",
    "print(result)"
   ]
  },
  {
   "cell_type": "code",
   "execution_count": 73,
   "id": "behavioral-dominant",
   "metadata": {},
   "outputs": [
    {
     "data": {
      "image/png": "[encoded data removed]",
      "text/plain": [
       "<Figure size 432x288 with 2 Axes>"
      ]
     },
     "metadata": {
      "needs_background": "light"
     },
     "output_type": "display_data"
    }
   ],
   "source": [
    "sns.heatmap(result, cmap ='RdYlGn', annot=True)\n",
    "plt.show()"
   ]
  },
  {
   "cell_type": "markdown",
   "id": "configured-bachelor",
   "metadata": {},
   "source": [
    "From the above pivot table and heatman we can see the female passengers who aboard the ship from the \"C\" point has the most chances of survival where the male passengers who aboard the ship from the \"S\" point has the least chances of survival."
   ]
  },
  {
   "cell_type": "markdown",
   "id": "emotional-annotation",
   "metadata": {},
   "source": [
    "### Correlation Matrix:"
   ]
  },
  {
   "cell_type": "code",
   "execution_count": 74,
   "id": "falling-batman",
   "metadata": {},
   "outputs": [
    {
     "data": {
      "image/png": "[encoded data removed]",
      "text/plain": [
       "<Figure size 720x720 with 2 Axes>"
      ]
     },
     "metadata": {
      "needs_background": "light"
     },
     "output_type": "display_data"
    }
   ],
   "source": [
    "plt.figure(figsize = (10,10))\n",
    "corr = df5.corr(method='pearson')\n",
    "sns.heatmap(corr, annot = True, cmap = plt.cm.CMRmap_r)\n",
    "plt.show()"
   ]
  },
  {
   "cell_type": "markdown",
   "id": "finite-garbage",
   "metadata": {},
   "source": [
    "From this correlation matrix heatmap , we can say that there is no significant correlation between the features."
   ]
  },
  {
   "cell_type": "markdown",
   "id": "enabling-syria",
   "metadata": {},
   "source": [
    "### Handling Categorical Variables\n",
    "As out machine learning model only understands numerical values so we need to convert out categorical valiables into numerical ones. "
   ]
  },
  {
   "cell_type": "code",
   "execution_count": 75,
   "id": "going-divorce",
   "metadata": {},
   "outputs": [
    {
     "data": {
      "text/html": [
       "<div>\n",
       "<style scoped>\n",
       "    .dataframe tbody tr th:only-of-type {\n",
       "        vertical-align: middle;\n",
       "    }\n",
       "\n",
       "    .dataframe tbody tr th {\n",
       "        vertical-align: top;\n",
       "    }\n",
       "\n",
       "    .dataframe thead th {\n",
       "        text-align: right;\n",
       "    }\n",
       "</style>\n",
       "<table border=\"1\" class=\"dataframe\">\n",
       "  <thead>\n",
       "    <tr style=\"text-align: right;\">\n",
       "      <th></th>\n",
       "      <th>PassengerId</th>\n",
       "      <th>Survived</th>\n",
       "      <th>Pclass</th>\n",
       "      <th>Sex</th>\n",
       "      <th>Age</th>\n",
       "      <th>SibSp</th>\n",
       "      <th>Parch</th>\n",
       "      <th>Fare</th>\n",
       "      <th>Embarked</th>\n",
       "    </tr>\n",
       "  </thead>\n",
       "  <tbody>\n",
       "    <tr>\n",
       "      <th>0</th>\n",
       "      <td>0</td>\n",
       "      <td>1</td>\n",
       "      <td>1</td>\n",
       "      <td>male</td>\n",
       "      <td>47.00</td>\n",
       "      <td>2</td>\n",
       "      <td>0</td>\n",
       "      <td>27.14</td>\n",
       "      <td>S</td>\n",
       "    </tr>\n",
       "    <tr>\n",
       "      <th>1</th>\n",
       "      <td>1</td>\n",
       "      <td>0</td>\n",
       "      <td>3</td>\n",
       "      <td>male</td>\n",
       "      <td>30.00</td>\n",
       "      <td>0</td>\n",
       "      <td>0</td>\n",
       "      <td>13.35</td>\n",
       "      <td>S</td>\n",
       "    </tr>\n",
       "    <tr>\n",
       "      <th>2</th>\n",
       "      <td>2</td>\n",
       "      <td>0</td>\n",
       "      <td>3</td>\n",
       "      <td>male</td>\n",
       "      <td>0.33</td>\n",
       "      <td>1</td>\n",
       "      <td>2</td>\n",
       "      <td>10.94</td>\n",
       "      <td>S</td>\n",
       "    </tr>\n",
       "    <tr>\n",
       "      <th>3</th>\n",
       "      <td>3</td>\n",
       "      <td>0</td>\n",
       "      <td>3</td>\n",
       "      <td>male</td>\n",
       "      <td>19.00</td>\n",
       "      <td>0</td>\n",
       "      <td>0</td>\n",
       "      <td>13.04</td>\n",
       "      <td>S</td>\n",
       "    </tr>\n",
       "    <tr>\n",
       "      <th>4</th>\n",
       "      <td>4</td>\n",
       "      <td>1</td>\n",
       "      <td>3</td>\n",
       "      <td>male</td>\n",
       "      <td>25.00</td>\n",
       "      <td>0</td>\n",
       "      <td>0</td>\n",
       "      <td>7.76</td>\n",
       "      <td>S</td>\n",
       "    </tr>\n",
       "  </tbody>\n",
       "</table>\n",
       "</div>"
      ],
      "text/plain": [
       "   PassengerId  Survived  Pclass   Sex    Age  SibSp  Parch   Fare Embarked\n",
       "0            0         1       1  male  47.00      2      0  27.14        S\n",
       "1            1         0       3  male  30.00      0      0  13.35        S\n",
       "2            2         0       3  male   0.33      1      2  10.94        S\n",
       "3            3         0       3  male  19.00      0      0  13.04        S\n",
       "4            4         1       3  male  25.00      0      0   7.76        S"
      ]
     },
     "execution_count": 75,
     "metadata": {},
     "output_type": "execute_result"
    }
   ],
   "source": [
    "df5.head()"
   ]
  },
  {
   "cell_type": "code",
   "execution_count": 76,
   "id": "willing-stevens",
   "metadata": {},
   "outputs": [
    {
     "data": {
      "text/plain": [
       "(98912, 9)"
      ]
     },
     "execution_count": 76,
     "metadata": {},
     "output_type": "execute_result"
    }
   ],
   "source": [
    "df5.shape"
   ]
  },
  {
   "cell_type": "code",
   "execution_count": 77,
   "id": "imposed-assurance",
   "metadata": {},
   "outputs": [],
   "source": [
    "df_sex = pd.get_dummies(df5['Sex'])"
   ]
  },
  {
   "cell_type": "code",
   "execution_count": 78,
   "id": "committed-singles",
   "metadata": {},
   "outputs": [],
   "source": [
    "df5['Embarked'] = df['Embarked'].replace(['S','C','Q'],[3,2,1])"
   ]
  },
  {
   "cell_type": "code",
   "execution_count": 80,
   "id": "quality-recommendation",
   "metadata": {},
   "outputs": [],
   "source": [
    "df5 = pd.concat([df5, df_sex], axis = 1)"
   ]
  },
  {
   "cell_type": "code",
   "execution_count": 81,
   "id": "effective-helena",
   "metadata": {},
   "outputs": [],
   "source": [
    "df5.drop(['PassengerId','Sex'], axis =1, inplace = True)"
   ]
  },
  {
   "cell_type": "code",
   "execution_count": 82,
   "id": "blessed-client",
   "metadata": {},
   "outputs": [
    {
     "data": {
      "text/html": [
       "<div>\n",
       "<style scoped>\n",
       "    .dataframe tbody tr th:only-of-type {\n",
       "        vertical-align: middle;\n",
       "    }\n",
       "\n",
       "    .dataframe tbody tr th {\n",
       "        vertical-align: top;\n",
       "    }\n",
       "\n",
       "    .dataframe thead th {\n",
       "        text-align: right;\n",
       "    }\n",
       "</style>\n",
       "<table border=\"1\" class=\"dataframe\">\n",
       "  <thead>\n",
       "    <tr style=\"text-align: right;\">\n",
       "      <th></th>\n",
       "      <th>Survived</th>\n",
       "      <th>Pclass</th>\n",
       "      <th>Age</th>\n",
       "      <th>SibSp</th>\n",
       "      <th>Parch</th>\n",
       "      <th>Fare</th>\n",
       "      <th>Embarked</th>\n",
       "      <th>female</th>\n",
       "      <th>male</th>\n",
       "    </tr>\n",
       "  </thead>\n",
       "  <tbody>\n",
       "    <tr>\n",
       "      <th>0</th>\n",
       "      <td>1</td>\n",
       "      <td>1</td>\n",
       "      <td>47.00</td>\n",
       "      <td>2</td>\n",
       "      <td>0</td>\n",
       "      <td>27.14</td>\n",
       "      <td>3</td>\n",
       "      <td>0</td>\n",
       "      <td>1</td>\n",
       "    </tr>\n",
       "    <tr>\n",
       "      <th>1</th>\n",
       "      <td>0</td>\n",
       "      <td>3</td>\n",
       "      <td>30.00</td>\n",
       "      <td>0</td>\n",
       "      <td>0</td>\n",
       "      <td>13.35</td>\n",
       "      <td>3</td>\n",
       "      <td>0</td>\n",
       "      <td>1</td>\n",
       "    </tr>\n",
       "    <tr>\n",
       "      <th>2</th>\n",
       "      <td>0</td>\n",
       "      <td>3</td>\n",
       "      <td>0.33</td>\n",
       "      <td>1</td>\n",
       "      <td>2</td>\n",
       "      <td>10.94</td>\n",
       "      <td>3</td>\n",
       "      <td>0</td>\n",
       "      <td>1</td>\n",
       "    </tr>\n",
       "    <tr>\n",
       "      <th>3</th>\n",
       "      <td>0</td>\n",
       "      <td>3</td>\n",
       "      <td>19.00</td>\n",
       "      <td>0</td>\n",
       "      <td>0</td>\n",
       "      <td>13.04</td>\n",
       "      <td>3</td>\n",
       "      <td>0</td>\n",
       "      <td>1</td>\n",
       "    </tr>\n",
       "    <tr>\n",
       "      <th>4</th>\n",
       "      <td>1</td>\n",
       "      <td>3</td>\n",
       "      <td>25.00</td>\n",
       "      <td>0</td>\n",
       "      <td>0</td>\n",
       "      <td>7.76</td>\n",
       "      <td>3</td>\n",
       "      <td>0</td>\n",
       "      <td>1</td>\n",
       "    </tr>\n",
       "    <tr>\n",
       "      <th>5</th>\n",
       "      <td>0</td>\n",
       "      <td>2</td>\n",
       "      <td>35.00</td>\n",
       "      <td>0</td>\n",
       "      <td>0</td>\n",
       "      <td>6.71</td>\n",
       "      <td>3</td>\n",
       "      <td>0</td>\n",
       "      <td>1</td>\n",
       "    </tr>\n",
       "    <tr>\n",
       "      <th>6</th>\n",
       "      <td>0</td>\n",
       "      <td>3</td>\n",
       "      <td>7.00</td>\n",
       "      <td>0</td>\n",
       "      <td>0</td>\n",
       "      <td>9.77</td>\n",
       "      <td>3</td>\n",
       "      <td>0</td>\n",
       "      <td>1</td>\n",
       "    </tr>\n",
       "    <tr>\n",
       "      <th>7</th>\n",
       "      <td>1</td>\n",
       "      <td>3</td>\n",
       "      <td>6.00</td>\n",
       "      <td>1</td>\n",
       "      <td>2</td>\n",
       "      <td>31.50</td>\n",
       "      <td>3</td>\n",
       "      <td>1</td>\n",
       "      <td>0</td>\n",
       "    </tr>\n",
       "    <tr>\n",
       "      <th>8</th>\n",
       "      <td>0</td>\n",
       "      <td>1</td>\n",
       "      <td>27.00</td>\n",
       "      <td>2</td>\n",
       "      <td>1</td>\n",
       "      <td>73.02</td>\n",
       "      <td>3</td>\n",
       "      <td>0</td>\n",
       "      <td>1</td>\n",
       "    </tr>\n",
       "    <tr>\n",
       "      <th>9</th>\n",
       "      <td>0</td>\n",
       "      <td>2</td>\n",
       "      <td>66.00</td>\n",
       "      <td>0</td>\n",
       "      <td>0</td>\n",
       "      <td>9.14</td>\n",
       "      <td>2</td>\n",
       "      <td>0</td>\n",
       "      <td>1</td>\n",
       "    </tr>\n",
       "  </tbody>\n",
       "</table>\n",
       "</div>"
      ],
      "text/plain": [
       "   Survived  Pclass    Age  SibSp  Parch   Fare  Embarked  female  male\n",
       "0         1       1  47.00      2      0  27.14         3       0     1\n",
       "1         0       3  30.00      0      0  13.35         3       0     1\n",
       "2         0       3   0.33      1      2  10.94         3       0     1\n",
       "3         0       3  19.00      0      0  13.04         3       0     1\n",
       "4         1       3  25.00      0      0   7.76         3       0     1\n",
       "5         0       2  35.00      0      0   6.71         3       0     1\n",
       "6         0       3   7.00      0      0   9.77         3       0     1\n",
       "7         1       3   6.00      1      2  31.50         3       1     0\n",
       "8         0       1  27.00      2      1  73.02         3       0     1\n",
       "9         0       2  66.00      0      0   9.14         2       0     1"
      ]
     },
     "execution_count": 82,
     "metadata": {},
     "output_type": "execute_result"
    }
   ],
   "source": [
    "df5.head(10)"
   ]
  },
  {
   "cell_type": "markdown",
   "id": "hourly-google",
   "metadata": {},
   "source": [
    "#### Saving the imbalanced data:"
   ]
  },
  {
   "cell_type": "code",
   "execution_count": 83,
   "id": "initial-opinion",
   "metadata": {},
   "outputs": [],
   "source": [
    "df5.to_csv('data/result_imbalanced.csv', index = False)"
   ]
  },
  {
   "cell_type": "markdown",
   "id": "developmental-invitation",
   "metadata": {},
   "source": [
    "### Handling Imbalanced Data\n",
    "In this section we will handle the imbalancement of our target variable"
   ]
  },
  {
   "cell_type": "code",
   "execution_count": 84,
   "id": "fitted-rotation",
   "metadata": {},
   "outputs": [],
   "source": [
    "df6 = df5.copy()"
   ]
  },
  {
   "cell_type": "code",
   "execution_count": 85,
   "id": "reflected-devon",
   "metadata": {},
   "outputs": [
    {
     "data": {
      "text/plain": [
       "0    56597\n",
       "1    42315\n",
       "Name: Survived, dtype: int64"
      ]
     },
     "execution_count": 85,
     "metadata": {},
     "output_type": "execute_result"
    }
   ],
   "source": [
    "df6['Survived'].value_counts()"
   ]
  },
  {
   "cell_type": "code",
   "execution_count": 87,
   "id": "external-wellington",
   "metadata": {},
   "outputs": [
    {
     "data": {
      "image/png": "[encoded data removed]",
      "text/plain": [
       "<Figure size 432x288 with 1 Axes>"
      ]
     },
     "metadata": {
      "needs_background": "light"
     },
     "output_type": "display_data"
    }
   ],
   "source": [
    "sns.countplot(x='Survived', data = df6);"
   ]
  },
  {
   "cell_type": "markdown",
   "id": "later-automation",
   "metadata": {},
   "source": [
    "From the above count and plot we can see that there is imbalancement between dead and alive section of the survived column which can affect out prediction. So we can do random downsampling to the dead count and make the data balanced."
   ]
  },
  {
   "cell_type": "markdown",
   "id": "responsible-chapter",
   "metadata": {},
   "source": [
    "##### Random under-sampling:"
   ]
  },
  {
   "cell_type": "code",
   "execution_count": 88,
   "id": "together-raise",
   "metadata": {},
   "outputs": [],
   "source": [
    "df_alive = df6[df6['Survived']== 1]\n",
    "df_dead = df6[df6['Survived']== 0]"
   ]
  },
  {
   "cell_type": "code",
   "execution_count": 89,
   "id": "acting-ghost",
   "metadata": {},
   "outputs": [
    {
     "name": "stdout",
     "output_type": "stream",
     "text": [
      "(42315, 9)\n",
      "(56597, 9)\n"
     ]
    }
   ],
   "source": [
    "print(df_alive.shape)\n",
    "print(df_dead.shape)"
   ]
  },
  {
   "cell_type": "code",
   "execution_count": 90,
   "id": "minimal-contrast",
   "metadata": {},
   "outputs": [],
   "source": [
    "downsampled_dead = df_dead.sample(42315)"
   ]
  },
  {
   "cell_type": "code",
   "execution_count": 91,
   "id": "listed-jimmy",
   "metadata": {},
   "outputs": [
    {
     "name": "stdout",
     "output_type": "stream",
     "text": [
      "(42315, 9)\n"
     ]
    }
   ],
   "source": [
    "print(downsampled_dead.shape)"
   ]
  },
  {
   "cell_type": "code",
   "execution_count": 94,
   "id": "metallic-storm",
   "metadata": {},
   "outputs": [
    {
     "name": "stdout",
     "output_type": "stream",
     "text": [
      "(84630, 9)\n"
     ]
    }
   ],
   "source": [
    "df7 = downsampled_dead.append(df_alive)\n",
    "print(df8.shape)"
   ]
  },
  {
   "cell_type": "code",
   "execution_count": 95,
   "id": "eight-precipitation",
   "metadata": {},
   "outputs": [
    {
     "data": {
      "text/plain": [
       "0    42315\n",
       "1    42315\n",
       "Name: Survived, dtype: int64"
      ]
     },
     "execution_count": 95,
     "metadata": {},
     "output_type": "execute_result"
    }
   ],
   "source": [
    "df7['Survived'].value_counts()"
   ]
  },
  {
   "cell_type": "code",
   "execution_count": 96,
   "id": "incredible-burst",
   "metadata": {
    "scrolled": true
   },
   "outputs": [
    {
     "data": {
      "text/plain": [
       "<AxesSubplot:xlabel='Survived', ylabel='count'>"
      ]
     },
     "execution_count": 96,
     "metadata": {},
     "output_type": "execute_result"
    },
    {
     "data": {
      "image/png": "[encoded data removed]",
      "text/plain": [
       "<Figure size 432x288 with 1 Axes>"
      ]
     },
     "metadata": {
      "needs_background": "light"
     },
     "output_type": "display_data"
    }
   ],
   "source": [
    "sns.countplot(x='Survived', data = df8)"
   ]
  },
  {
   "cell_type": "markdown",
   "id": "sharing-display",
   "metadata": {},
   "source": [
    "Now the data is perfectly balanced."
   ]
  },
  {
   "cell_type": "markdown",
   "id": "random-glass",
   "metadata": {},
   "source": [
    "## Saving the dataset for modeling. \n",
    "Here we have analyzed our dataset now we will save it to deploy into our ML model. \n",
    "After analyzing various parameters of the model we can always come back to this section and analize our data accordingly."
   ]
  },
  {
   "cell_type": "code",
   "execution_count": 98,
   "id": "described-fraud",
   "metadata": {},
   "outputs": [],
   "source": [
    "df7.to_csv('data/result_balanced.csv', index = False)"
   ]
  }
 ],
 "metadata": {
  "kernelspec": {
   "display_name": "Python 3",
   "language": "python",
   "name": "python3"
  },
  "language_info": {
   "codemirror_mode": {
    "name": "ipython",
    "version": 3
   },
   "file_extension": ".py",
   "mimetype": "text/x-python",
   "name": "python",
   "nbconvert_exporter": "python",
   "pygments_lexer": "ipython3",
   "version": "3.8.8"
  }
 },
 "nbformat": 4,
 "nbformat_minor": 5
}
