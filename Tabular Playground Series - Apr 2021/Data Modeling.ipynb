{
 "cells": [
  {
   "cell_type": "markdown",
   "id": "accompanied-chinese",
   "metadata": {},
   "source": [
    "## Importing required libraries"
   ]
  },
  {
   "cell_type": "code",
   "execution_count": 13,
   "id": "physical-botswana",
   "metadata": {},
   "outputs": [],
   "source": [
    "import pandas as pd\n",
    "import numpy as np\n",
    "import matplotlib.pyplot as plt\n",
    "import seaborn as sns\n",
    "import scipy.stats as stats\n",
    "%matplotlib inline"
   ]
  },
  {
   "cell_type": "code",
   "execution_count": 14,
   "id": "remarkable-decline",
   "metadata": {},
   "outputs": [],
   "source": [
    "from sklearn.tree import DecisionTreeClassifier\n",
    "from sklearn.linear_model import SGDClassifier\n",
    "from sklearn.model_selection import train_test_split \n",
    "from sklearn.model_selection import cross_val_score\n",
    "from sklearn.model_selection import GridSearchCV\n",
    "from sklearn import metrics\n",
    "from sklearn.metrics import classification_report\n",
    "from sklearn.metrics import confusion_matrix\n",
    "from sklearn.metrics import plot_confusion_matrix\n",
    "import scikitplot as skplt "
   ]
  },
  {
   "cell_type": "markdown",
   "id": "fallen-blend",
   "metadata": {},
   "source": [
    "## Loading Datasets\n",
    "Here I have loaded the 'result_balanced.csv' dataset using the pandas library"
   ]
  },
  {
   "cell_type": "code",
   "execution_count": 15,
   "id": "polyphonic-batch",
   "metadata": {},
   "outputs": [],
   "source": [
    "df = pd.read_csv('data/result_balanced.csv')"
   ]
  },
  {
   "cell_type": "code",
   "execution_count": 16,
   "id": "plain-disney",
   "metadata": {
    "scrolled": true
   },
   "outputs": [
    {
     "data": {
      "text/html": [
       "<div>\n",
       "<style scoped>\n",
       "    .dataframe tbody tr th:only-of-type {\n",
       "        vertical-align: middle;\n",
       "    }\n",
       "\n",
       "    .dataframe tbody tr th {\n",
       "        vertical-align: top;\n",
       "    }\n",
       "\n",
       "    .dataframe thead th {\n",
       "        text-align: right;\n",
       "    }\n",
       "</style>\n",
       "<table border=\"1\" class=\"dataframe\">\n",
       "  <thead>\n",
       "    <tr style=\"text-align: right;\">\n",
       "      <th></th>\n",
       "      <th>Survived</th>\n",
       "      <th>Pclass</th>\n",
       "      <th>Age</th>\n",
       "      <th>SibSp</th>\n",
       "      <th>Parch</th>\n",
       "      <th>Fare</th>\n",
       "      <th>Embarked</th>\n",
       "      <th>female</th>\n",
       "      <th>male</th>\n",
       "    </tr>\n",
       "  </thead>\n",
       "  <tbody>\n",
       "    <tr>\n",
       "      <th>0</th>\n",
       "      <td>0</td>\n",
       "      <td>1</td>\n",
       "      <td>35.0</td>\n",
       "      <td>0</td>\n",
       "      <td>0</td>\n",
       "      <td>10.62</td>\n",
       "      <td>3</td>\n",
       "      <td>0</td>\n",
       "      <td>1</td>\n",
       "    </tr>\n",
       "    <tr>\n",
       "      <th>1</th>\n",
       "      <td>0</td>\n",
       "      <td>2</td>\n",
       "      <td>18.0</td>\n",
       "      <td>0</td>\n",
       "      <td>0</td>\n",
       "      <td>26.19</td>\n",
       "      <td>3</td>\n",
       "      <td>0</td>\n",
       "      <td>1</td>\n",
       "    </tr>\n",
       "    <tr>\n",
       "      <th>2</th>\n",
       "      <td>0</td>\n",
       "      <td>3</td>\n",
       "      <td>25.0</td>\n",
       "      <td>0</td>\n",
       "      <td>0</td>\n",
       "      <td>6.65</td>\n",
       "      <td>3</td>\n",
       "      <td>0</td>\n",
       "      <td>1</td>\n",
       "    </tr>\n",
       "    <tr>\n",
       "      <th>3</th>\n",
       "      <td>0</td>\n",
       "      <td>3</td>\n",
       "      <td>51.0</td>\n",
       "      <td>0</td>\n",
       "      <td>0</td>\n",
       "      <td>7.50</td>\n",
       "      <td>3</td>\n",
       "      <td>0</td>\n",
       "      <td>1</td>\n",
       "    </tr>\n",
       "    <tr>\n",
       "      <th>4</th>\n",
       "      <td>0</td>\n",
       "      <td>3</td>\n",
       "      <td>6.0</td>\n",
       "      <td>0</td>\n",
       "      <td>0</td>\n",
       "      <td>9.91</td>\n",
       "      <td>3</td>\n",
       "      <td>0</td>\n",
       "      <td>1</td>\n",
       "    </tr>\n",
       "  </tbody>\n",
       "</table>\n",
       "</div>"
      ],
      "text/plain": [
       "   Survived  Pclass   Age  SibSp  Parch   Fare  Embarked  female  male\n",
       "0         0       1  35.0      0      0  10.62         3       0     1\n",
       "1         0       2  18.0      0      0  26.19         3       0     1\n",
       "2         0       3  25.0      0      0   6.65         3       0     1\n",
       "3         0       3  51.0      0      0   7.50         3       0     1\n",
       "4         0       3   6.0      0      0   9.91         3       0     1"
      ]
     },
     "execution_count": 16,
     "metadata": {},
     "output_type": "execute_result"
    }
   ],
   "source": [
    "df.head()"
   ]
  },
  {
   "cell_type": "code",
   "execution_count": 17,
   "id": "similar-howard",
   "metadata": {},
   "outputs": [
    {
     "data": {
      "text/plain": [
       "(84630, 9)"
      ]
     },
     "execution_count": 17,
     "metadata": {},
     "output_type": "execute_result"
    }
   ],
   "source": [
    "df.shape"
   ]
  },
  {
   "cell_type": "code",
   "execution_count": 18,
   "id": "mounted-kansas",
   "metadata": {},
   "outputs": [
    {
     "name": "stdout",
     "output_type": "stream",
     "text": [
      "<class 'pandas.core.frame.DataFrame'>\n",
      "RangeIndex: 84630 entries, 0 to 84629\n",
      "Data columns (total 9 columns):\n",
      " #   Column    Non-Null Count  Dtype  \n",
      "---  ------    --------------  -----  \n",
      " 0   Survived  84630 non-null  int64  \n",
      " 1   Pclass    84630 non-null  int64  \n",
      " 2   Age       84630 non-null  float64\n",
      " 3   SibSp     84630 non-null  int64  \n",
      " 4   Parch     84630 non-null  int64  \n",
      " 5   Fare      84630 non-null  float64\n",
      " 6   Embarked  84630 non-null  int64  \n",
      " 7   female    84630 non-null  int64  \n",
      " 8   male      84630 non-null  int64  \n",
      "dtypes: float64(2), int64(7)\n",
      "memory usage: 5.8 MB\n"
     ]
    }
   ],
   "source": [
    "df.info()"
   ]
  },
  {
   "cell_type": "code",
   "execution_count": 19,
   "id": "neither-store",
   "metadata": {},
   "outputs": [
    {
     "data": {
      "text/html": [
       "<div>\n",
       "<style scoped>\n",
       "    .dataframe tbody tr th:only-of-type {\n",
       "        vertical-align: middle;\n",
       "    }\n",
       "\n",
       "    .dataframe tbody tr th {\n",
       "        vertical-align: top;\n",
       "    }\n",
       "\n",
       "    .dataframe thead th {\n",
       "        text-align: right;\n",
       "    }\n",
       "</style>\n",
       "<table border=\"1\" class=\"dataframe\">\n",
       "  <thead>\n",
       "    <tr style=\"text-align: right;\">\n",
       "      <th></th>\n",
       "      <th>Survived</th>\n",
       "      <th>Pclass</th>\n",
       "      <th>Age</th>\n",
       "      <th>SibSp</th>\n",
       "      <th>Parch</th>\n",
       "      <th>Fare</th>\n",
       "      <th>Embarked</th>\n",
       "      <th>female</th>\n",
       "      <th>male</th>\n",
       "    </tr>\n",
       "  </thead>\n",
       "  <tbody>\n",
       "    <tr>\n",
       "      <th>count</th>\n",
       "      <td>84630.000000</td>\n",
       "      <td>84630.000000</td>\n",
       "      <td>84630.000000</td>\n",
       "      <td>84630.000000</td>\n",
       "      <td>84630.000000</td>\n",
       "      <td>84630.000000</td>\n",
       "      <td>84630.000000</td>\n",
       "      <td>84630.000000</td>\n",
       "      <td>84630.000000</td>\n",
       "    </tr>\n",
       "    <tr>\n",
       "      <th>mean</th>\n",
       "      <td>0.500000</td>\n",
       "      <td>2.072114</td>\n",
       "      <td>38.606467</td>\n",
       "      <td>0.374170</td>\n",
       "      <td>0.408827</td>\n",
       "      <td>27.619937</td>\n",
       "      <td>2.644098</td>\n",
       "      <td>0.473922</td>\n",
       "      <td>0.526078</td>\n",
       "    </tr>\n",
       "    <tr>\n",
       "      <th>std</th>\n",
       "      <td>0.500003</td>\n",
       "      <td>0.836721</td>\n",
       "      <td>18.094054</td>\n",
       "      <td>0.753597</td>\n",
       "      <td>0.762052</td>\n",
       "      <td>22.864449</td>\n",
       "      <td>0.585223</td>\n",
       "      <td>0.499322</td>\n",
       "      <td>0.499322</td>\n",
       "    </tr>\n",
       "    <tr>\n",
       "      <th>min</th>\n",
       "      <td>0.000000</td>\n",
       "      <td>1.000000</td>\n",
       "      <td>0.080000</td>\n",
       "      <td>0.000000</td>\n",
       "      <td>0.000000</td>\n",
       "      <td>0.680000</td>\n",
       "      <td>1.000000</td>\n",
       "      <td>0.000000</td>\n",
       "      <td>0.000000</td>\n",
       "    </tr>\n",
       "    <tr>\n",
       "      <th>25%</th>\n",
       "      <td>0.000000</td>\n",
       "      <td>1.000000</td>\n",
       "      <td>25.000000</td>\n",
       "      <td>0.000000</td>\n",
       "      <td>0.000000</td>\n",
       "      <td>10.220000</td>\n",
       "      <td>2.000000</td>\n",
       "      <td>0.000000</td>\n",
       "      <td>0.000000</td>\n",
       "    </tr>\n",
       "    <tr>\n",
       "      <th>50%</th>\n",
       "      <td>0.500000</td>\n",
       "      <td>2.000000</td>\n",
       "      <td>39.000000</td>\n",
       "      <td>0.000000</td>\n",
       "      <td>0.000000</td>\n",
       "      <td>22.970000</td>\n",
       "      <td>3.000000</td>\n",
       "      <td>0.000000</td>\n",
       "      <td>1.000000</td>\n",
       "    </tr>\n",
       "    <tr>\n",
       "      <th>75%</th>\n",
       "      <td>1.000000</td>\n",
       "      <td>3.000000</td>\n",
       "      <td>53.000000</td>\n",
       "      <td>1.000000</td>\n",
       "      <td>1.000000</td>\n",
       "      <td>31.750000</td>\n",
       "      <td>3.000000</td>\n",
       "      <td>1.000000</td>\n",
       "      <td>1.000000</td>\n",
       "    </tr>\n",
       "    <tr>\n",
       "      <th>max</th>\n",
       "      <td>1.000000</td>\n",
       "      <td>3.000000</td>\n",
       "      <td>87.000000</td>\n",
       "      <td>5.000000</td>\n",
       "      <td>4.000000</td>\n",
       "      <td>117.000000</td>\n",
       "      <td>3.000000</td>\n",
       "      <td>1.000000</td>\n",
       "      <td>1.000000</td>\n",
       "    </tr>\n",
       "  </tbody>\n",
       "</table>\n",
       "</div>"
      ],
      "text/plain": [
       "           Survived        Pclass           Age         SibSp         Parch  \\\n",
       "count  84630.000000  84630.000000  84630.000000  84630.000000  84630.000000   \n",
       "mean       0.500000      2.072114     38.606467      0.374170      0.408827   \n",
       "std        0.500003      0.836721     18.094054      0.753597      0.762052   \n",
       "min        0.000000      1.000000      0.080000      0.000000      0.000000   \n",
       "25%        0.000000      1.000000     25.000000      0.000000      0.000000   \n",
       "50%        0.500000      2.000000     39.000000      0.000000      0.000000   \n",
       "75%        1.000000      3.000000     53.000000      1.000000      1.000000   \n",
       "max        1.000000      3.000000     87.000000      5.000000      4.000000   \n",
       "\n",
       "               Fare      Embarked        female          male  \n",
       "count  84630.000000  84630.000000  84630.000000  84630.000000  \n",
       "mean      27.619937      2.644098      0.473922      0.526078  \n",
       "std       22.864449      0.585223      0.499322      0.499322  \n",
       "min        0.680000      1.000000      0.000000      0.000000  \n",
       "25%       10.220000      2.000000      0.000000      0.000000  \n",
       "50%       22.970000      3.000000      0.000000      1.000000  \n",
       "75%       31.750000      3.000000      1.000000      1.000000  \n",
       "max      117.000000      3.000000      1.000000      1.000000  "
      ]
     },
     "execution_count": 19,
     "metadata": {},
     "output_type": "execute_result"
    }
   ],
   "source": [
    "df.describe()"
   ]
  },
  {
   "cell_type": "markdown",
   "id": "fitted-witch",
   "metadata": {},
   "source": [
    "## Prepare set of independent variables and the dependent variable."
   ]
  },
  {
   "cell_type": "code",
   "execution_count": 20,
   "id": "considered-cigarette",
   "metadata": {},
   "outputs": [],
   "source": [
    "X = df.drop('Survived', axis = 1)\n",
    "y = df['Survived']"
   ]
  },
  {
   "cell_type": "markdown",
   "id": "narrative-orlando",
   "metadata": {},
   "source": [
    "## Split the data into Train and Test sets"
   ]
  },
  {
   "cell_type": "code",
   "execution_count": 21,
   "id": "supposed-blowing",
   "metadata": {},
   "outputs": [
    {
     "data": {
      "text/plain": [
       "((59241, 8), (59241,), (25389, 8), (25389,))"
      ]
     },
     "execution_count": 21,
     "metadata": {},
     "output_type": "execute_result"
    }
   ],
   "source": [
    "X_train, X_test, y_train, y_test = train_test_split(X,y,test_size=0.30,random_state=42)\n",
    "X_train.shape, y_train.shape, X_test.shape, y_test.shape"
   ]
  },
  {
   "cell_type": "markdown",
   "id": "classical-motivation",
   "metadata": {},
   "source": [
    "## Implementing the model "
   ]
  },
  {
   "cell_type": "markdown",
   "id": "nuclear-number",
   "metadata": {},
   "source": [
    "### 1. Stochastic Gradient Descent Classifier:"
   ]
  },
  {
   "cell_type": "markdown",
   "id": "viral-snowboard",
   "metadata": {},
   "source": [
    "#### Hyper Parameter Estimation:"
   ]
  },
  {
   "cell_type": "code",
   "execution_count": 28,
   "id": "expected-trout",
   "metadata": {},
   "outputs": [
    {
     "name": "stdout",
     "output_type": "stream",
     "text": [
      "{'loss': 'modified_huber', 'penalty': 'elasticnet'}\n"
     ]
    }
   ],
   "source": [
    "sgd_clf = GridSearchCV(SGDClassifier(),{\n",
    "    'loss': ['hinge', 'log', 'modified_huber',\n",
    "             'squared_hinge', 'perceptron', 'squared_loss', 'huber',\n",
    "            'epsilon_insensitive', 'squared_epsilon_insensitive'],\n",
    "    'penalty': ['l2','l1', 'elasticnet']},\n",
    "    cv=3)\n",
    "\n",
    "\n",
    "sgd_clf.fit(X_train,y_train)\n",
    "print(sgd_clf.best_params_)"
   ]
  },
  {
   "cell_type": "markdown",
   "id": "modular-sound",
   "metadata": {},
   "source": [
    "##### Running the model:"
   ]
  },
  {
   "cell_type": "code",
   "execution_count": 29,
   "id": "sensitive-arthur",
   "metadata": {},
   "outputs": [
    {
     "data": {
      "text/plain": [
       "SGDClassifier(loss='modified_huber', penalty='elasticnet')"
      ]
     },
     "execution_count": 29,
     "metadata": {},
     "output_type": "execute_result"
    }
   ],
   "source": [
    "sgd_clf = SGDClassifier(loss = 'modified_huber', penalty = 'elasticnet')\n",
    "sgd_clf.fit(X_train,y_train)"
   ]
  },
  {
   "cell_type": "markdown",
   "id": "lesbian-government",
   "metadata": {},
   "source": [
    "##### Performance of the model:"
   ]
  },
  {
   "cell_type": "code",
   "execution_count": 30,
   "id": "japanese-maine",
   "metadata": {},
   "outputs": [
    {
     "data": {
      "text/plain": [
       "array([0.75352712, 0.73902871, 0.7674938 ])"
      ]
     },
     "execution_count": 30,
     "metadata": {},
     "output_type": "execute_result"
    }
   ],
   "source": [
    "cross_val_score(sgd_clf,X,y, cv = 3)"
   ]
  },
  {
   "cell_type": "code",
   "execution_count": 32,
   "id": "second-track",
   "metadata": {},
   "outputs": [
    {
     "data": {
      "text/plain": [
       "0.7574264445232187"
      ]
     },
     "execution_count": 32,
     "metadata": {},
     "output_type": "execute_result"
    }
   ],
   "source": [
    "cross_val_score(sgd_clf,X,y).mean()"
   ]
  },
  {
   "cell_type": "code",
   "execution_count": 33,
   "id": "million-failing",
   "metadata": {},
   "outputs": [
    {
     "name": "stdout",
     "output_type": "stream",
     "text": [
      "              precision    recall  f1-score   support\n",
      "\n",
      "           0       0.78      0.75      0.76     12718\n",
      "           1       0.76      0.79      0.77     12671\n",
      "\n",
      "    accuracy                           0.77     25389\n",
      "   macro avg       0.77      0.77      0.77     25389\n",
      "weighted avg       0.77      0.77      0.77     25389\n",
      "\n"
     ]
    }
   ],
   "source": [
    "print(classification_report(y_test,sgd_clf.predict(X_test)))"
   ]
  },
  {
   "cell_type": "code",
   "execution_count": 34,
   "id": "coordinate-image",
   "metadata": {},
   "outputs": [
    {
     "data": {
      "image/png": "[encoded data removed]",
      "text/plain": [
       "<Figure size 432x288 with 2 Axes>"
      ]
     },
     "metadata": {
      "needs_background": "light"
     },
     "output_type": "display_data"
    }
   ],
   "source": [
    "skplt.metrics.plot_confusion_matrix(y_test, sgd_clf.predict(X_test), normalize=True);"
   ]
  },
  {
   "cell_type": "code",
   "execution_count": 35,
   "id": "violent-carrier",
   "metadata": {
    "scrolled": false
   },
   "outputs": [
    {
     "data": {
      "image/png": "[encoded data removed]",
      "text/plain": [
       "<Figure size 432x288 with 1 Axes>"
      ]
     },
     "metadata": {
      "needs_background": "light"
     },
     "output_type": "display_data"
    }
   ],
   "source": [
    "metrics.plot_roc_curve(sgd_clf, X_test, y_test);"
   ]
  },
  {
   "cell_type": "markdown",
   "id": "aging-howard",
   "metadata": {},
   "source": [
    "### 2. KNN Classifier:"
   ]
  },
  {
   "cell_type": "markdown",
   "id": "sound-rebel",
   "metadata": {},
   "source": [
    "#### Hyper Parameter Estimation:"
   ]
  },
  {
   "cell_type": "code",
   "execution_count": 36,
   "id": "allied-dutch",
   "metadata": {},
   "outputs": [],
   "source": [
    "from sklearn.neighbors import KNeighborsClassifier"
   ]
  },
  {
   "cell_type": "code",
   "execution_count": 37,
   "id": "checked-virginia",
   "metadata": {},
   "outputs": [
    {
     "name": "stdout",
     "output_type": "stream",
     "text": [
      "{'algorithm': 'ball_tree', 'n_neighbors': 15, 'weights': 'uniform'}\n"
     ]
    }
   ],
   "source": [
    "knn_clf = GridSearchCV(KNeighborsClassifier(),{\n",
    "    'n_neighbors': [3,5,10,15],\n",
    "    'weights': [\"uniform\", \"distance\"],\n",
    "    'algorithm':[\"auto\", \"ball_tree\", \"kd_tree\"]},\n",
    "    cv=3)\n",
    "\n",
    "\n",
    "knn_clf.fit(X_train,y_train)\n",
    "print(knn_clf.best_params_)"
   ]
  },
  {
   "cell_type": "markdown",
   "id": "second-newton",
   "metadata": {},
   "source": [
    "##### Running the model:"
   ]
  },
  {
   "cell_type": "code",
   "execution_count": 38,
   "id": "behind-drawing",
   "metadata": {},
   "outputs": [
    {
     "data": {
      "text/plain": [
       "KNeighborsClassifier(algorithm='ball_tree', n_neighbors=15)"
      ]
     },
     "execution_count": 38,
     "metadata": {},
     "output_type": "execute_result"
    }
   ],
   "source": [
    "knn_clf = KNeighborsClassifier(algorithm = 'ball_tree', n_neighbors = 15, weights = 'uniform')\n",
    "knn_clf.fit(X_train,y_train)"
   ]
  },
  {
   "cell_type": "markdown",
   "id": "needed-sweden",
   "metadata": {},
   "source": [
    "##### Performance of the model:"
   ]
  },
  {
   "cell_type": "code",
   "execution_count": 39,
   "id": "mediterranean-surgery",
   "metadata": {},
   "outputs": [
    {
     "data": {
      "text/plain": [
       "array([0.74533853, 0.7494151 , 0.75225097])"
      ]
     },
     "execution_count": 39,
     "metadata": {},
     "output_type": "execute_result"
    }
   ],
   "source": [
    "cross_val_score(knn_clf,X,y, cv = 3)"
   ]
  },
  {
   "cell_type": "code",
   "execution_count": 40,
   "id": "composite-macintosh",
   "metadata": {},
   "outputs": [
    {
     "data": {
      "text/plain": [
       "0.7491196975067943"
      ]
     },
     "execution_count": 40,
     "metadata": {},
     "output_type": "execute_result"
    }
   ],
   "source": [
    "cross_val_score(knn_clf,X,y).mean()"
   ]
  },
  {
   "cell_type": "code",
   "execution_count": 41,
   "id": "religious-architect",
   "metadata": {},
   "outputs": [
    {
     "name": "stdout",
     "output_type": "stream",
     "text": [
      "              precision    recall  f1-score   support\n",
      "\n",
      "           0       0.76      0.73      0.75     12718\n",
      "           1       0.74      0.77      0.75     12671\n",
      "\n",
      "    accuracy                           0.75     25389\n",
      "   macro avg       0.75      0.75      0.75     25389\n",
      "weighted avg       0.75      0.75      0.75     25389\n",
      "\n"
     ]
    }
   ],
   "source": [
    "print(classification_report(y_test,knn_clf.predict(X_test)))"
   ]
  },
  {
   "cell_type": "code",
   "execution_count": 42,
   "id": "defined-algebra",
   "metadata": {},
   "outputs": [
    {
     "data": {
      "image/png": "[encoded data removed]",
      "text/plain": [
       "<Figure size 432x288 with 2 Axes>"
      ]
     },
     "metadata": {
      "needs_background": "light"
     },
     "output_type": "display_data"
    }
   ],
   "source": [
    "skplt.metrics.plot_confusion_matrix(y_test, knn_clf.predict(X_test), normalize=True);"
   ]
  },
  {
   "cell_type": "code",
   "execution_count": 43,
   "id": "social-contract",
   "metadata": {},
   "outputs": [
    {
     "data": {
      "image/png": "[encoded data removed]",
      "text/plain": [
       "<Figure size 432x288 with 1 Axes>"
      ]
     },
     "metadata": {
      "needs_background": "light"
     },
     "output_type": "display_data"
    }
   ],
   "source": [
    "metrics.plot_roc_curve(knn_clf, X_test, y_test);"
   ]
  },
  {
   "cell_type": "markdown",
   "id": "hungry-humor",
   "metadata": {},
   "source": [
    "### Comparision Between two models:"
   ]
  },
  {
   "cell_type": "markdown",
   "id": "advised-afternoon",
   "metadata": {},
   "source": [
    "Here we have used two different classifier to predict our outcome. \n",
    "From different evaluation parameters we came to know that the accuracy of the SGD classifier is slightly greater than the KNN classifier. So for our work we will use the SGD classifier."
   ]
  },
  {
   "cell_type": "code",
   "execution_count": null,
   "id": "superb-messaging",
   "metadata": {},
   "outputs": [],
   "source": []
  }
 ],
 "metadata": {
  "kernelspec": {
   "display_name": "Python 3",
   "language": "python",
   "name": "python3"
  },
  "language_info": {
   "codemirror_mode": {
    "name": "ipython",
    "version": 3
   },
   "file_extension": ".py",
   "mimetype": "text/x-python",
   "name": "python",
   "nbconvert_exporter": "python",
   "pygments_lexer": "ipython3",
   "version": "3.8.8"
  }
 },
 "nbformat": 4,
 "nbformat_minor": 5
}
