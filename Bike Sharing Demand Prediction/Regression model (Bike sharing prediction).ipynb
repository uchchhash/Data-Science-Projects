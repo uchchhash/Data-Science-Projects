{
 "cells": [
  {
   "cell_type": "markdown",
   "id": "aerial-rally",
   "metadata": {},
   "source": [
    "## Importing required libraries"
   ]
  },
  {
   "cell_type": "code",
   "execution_count": 37,
   "id": "running-hierarchy",
   "metadata": {},
   "outputs": [],
   "source": [
    "import pandas as pd\n",
    "import numpy as np\n",
    "import matplotlib.pyplot as plt\n",
    "import seaborn as sns\n",
    "import scipy.stats as stats\n",
    "from pandas_profiling import ProfileReport\n",
    "%matplotlib inline\n",
    "import warnings\n",
    "warnings.filterwarnings('ignore')"
   ]
  },
  {
   "cell_type": "code",
   "execution_count": 38,
   "id": "flush-money",
   "metadata": {},
   "outputs": [],
   "source": [
    "from sklearn.model_selection import train_test_split \n",
    "from sklearn.model_selection import cross_val_score\n",
    "from sklearn.model_selection import GridSearchCV\n",
    "from sklearn import metrics\n",
    "from sklearn.preprocessing import StandardScaler\n",
    "\n",
    "import scikitplot as skplt "
   ]
  },
  {
   "cell_type": "code",
   "execution_count": 39,
   "id": "amateur-equity",
   "metadata": {},
   "outputs": [],
   "source": [
    "from sklearn.linear_model import LinearRegression\n",
    "from sklearn.ensemble import ExtraTreesRegressor\n",
    "from sklearn.ensemble import RandomForestRegressor"
   ]
  },
  {
   "cell_type": "markdown",
   "id": "worth-fifty",
   "metadata": {},
   "source": [
    "## Loading Datasets"
   ]
  },
  {
   "cell_type": "code",
   "execution_count": 40,
   "id": "indoor-orientation",
   "metadata": {},
   "outputs": [],
   "source": [
    "df = pd.read_csv('data/hour_data_final.csv')"
   ]
  },
  {
   "cell_type": "code",
   "execution_count": 41,
   "id": "monetary-mailing",
   "metadata": {},
   "outputs": [
    {
     "data": {
      "text/html": [
       "<div>\n",
       "<style scoped>\n",
       "    .dataframe tbody tr th:only-of-type {\n",
       "        vertical-align: middle;\n",
       "    }\n",
       "\n",
       "    .dataframe tbody tr th {\n",
       "        vertical-align: top;\n",
       "    }\n",
       "\n",
       "    .dataframe thead th {\n",
       "        text-align: right;\n",
       "    }\n",
       "</style>\n",
       "<table border=\"1\" class=\"dataframe\">\n",
       "  <thead>\n",
       "    <tr style=\"text-align: right;\">\n",
       "      <th></th>\n",
       "      <th>temp</th>\n",
       "      <th>humidity</th>\n",
       "      <th>windspeed</th>\n",
       "      <th>total</th>\n",
       "      <th>day</th>\n",
       "      <th>season_2</th>\n",
       "      <th>season_3</th>\n",
       "      <th>season_4</th>\n",
       "      <th>year_1</th>\n",
       "      <th>hour_1</th>\n",
       "      <th>...</th>\n",
       "      <th>weekday_1</th>\n",
       "      <th>weekday_2</th>\n",
       "      <th>weekday_3</th>\n",
       "      <th>weekday_4</th>\n",
       "      <th>weekday_5</th>\n",
       "      <th>weekday_6</th>\n",
       "      <th>workingday_1</th>\n",
       "      <th>weather_2</th>\n",
       "      <th>weather_3</th>\n",
       "      <th>weather_4</th>\n",
       "    </tr>\n",
       "  </thead>\n",
       "  <tbody>\n",
       "    <tr>\n",
       "      <th>0</th>\n",
       "      <td>0.24</td>\n",
       "      <td>0.81</td>\n",
       "      <td>0.194</td>\n",
       "      <td>16</td>\n",
       "      <td>1</td>\n",
       "      <td>0</td>\n",
       "      <td>0</td>\n",
       "      <td>0</td>\n",
       "      <td>0</td>\n",
       "      <td>0</td>\n",
       "      <td>...</td>\n",
       "      <td>0</td>\n",
       "      <td>0</td>\n",
       "      <td>0</td>\n",
       "      <td>0</td>\n",
       "      <td>0</td>\n",
       "      <td>1</td>\n",
       "      <td>0</td>\n",
       "      <td>0</td>\n",
       "      <td>0</td>\n",
       "      <td>0</td>\n",
       "    </tr>\n",
       "    <tr>\n",
       "      <th>1</th>\n",
       "      <td>0.22</td>\n",
       "      <td>0.80</td>\n",
       "      <td>0.194</td>\n",
       "      <td>40</td>\n",
       "      <td>1</td>\n",
       "      <td>0</td>\n",
       "      <td>0</td>\n",
       "      <td>0</td>\n",
       "      <td>0</td>\n",
       "      <td>1</td>\n",
       "      <td>...</td>\n",
       "      <td>0</td>\n",
       "      <td>0</td>\n",
       "      <td>0</td>\n",
       "      <td>0</td>\n",
       "      <td>0</td>\n",
       "      <td>1</td>\n",
       "      <td>0</td>\n",
       "      <td>0</td>\n",
       "      <td>0</td>\n",
       "      <td>0</td>\n",
       "    </tr>\n",
       "    <tr>\n",
       "      <th>2</th>\n",
       "      <td>0.22</td>\n",
       "      <td>0.80</td>\n",
       "      <td>0.194</td>\n",
       "      <td>32</td>\n",
       "      <td>1</td>\n",
       "      <td>0</td>\n",
       "      <td>0</td>\n",
       "      <td>0</td>\n",
       "      <td>0</td>\n",
       "      <td>0</td>\n",
       "      <td>...</td>\n",
       "      <td>0</td>\n",
       "      <td>0</td>\n",
       "      <td>0</td>\n",
       "      <td>0</td>\n",
       "      <td>0</td>\n",
       "      <td>1</td>\n",
       "      <td>0</td>\n",
       "      <td>0</td>\n",
       "      <td>0</td>\n",
       "      <td>0</td>\n",
       "    </tr>\n",
       "    <tr>\n",
       "      <th>3</th>\n",
       "      <td>0.24</td>\n",
       "      <td>0.75</td>\n",
       "      <td>0.194</td>\n",
       "      <td>13</td>\n",
       "      <td>1</td>\n",
       "      <td>0</td>\n",
       "      <td>0</td>\n",
       "      <td>0</td>\n",
       "      <td>0</td>\n",
       "      <td>0</td>\n",
       "      <td>...</td>\n",
       "      <td>0</td>\n",
       "      <td>0</td>\n",
       "      <td>0</td>\n",
       "      <td>0</td>\n",
       "      <td>0</td>\n",
       "      <td>1</td>\n",
       "      <td>0</td>\n",
       "      <td>0</td>\n",
       "      <td>0</td>\n",
       "      <td>0</td>\n",
       "    </tr>\n",
       "    <tr>\n",
       "      <th>4</th>\n",
       "      <td>0.24</td>\n",
       "      <td>0.75</td>\n",
       "      <td>0.194</td>\n",
       "      <td>1</td>\n",
       "      <td>1</td>\n",
       "      <td>0</td>\n",
       "      <td>0</td>\n",
       "      <td>0</td>\n",
       "      <td>0</td>\n",
       "      <td>0</td>\n",
       "      <td>...</td>\n",
       "      <td>0</td>\n",
       "      <td>0</td>\n",
       "      <td>0</td>\n",
       "      <td>0</td>\n",
       "      <td>0</td>\n",
       "      <td>1</td>\n",
       "      <td>0</td>\n",
       "      <td>0</td>\n",
       "      <td>0</td>\n",
       "      <td>0</td>\n",
       "    </tr>\n",
       "  </tbody>\n",
       "</table>\n",
       "<p>5 rows × 43 columns</p>\n",
       "</div>"
      ],
      "text/plain": [
       "   temp  humidity  windspeed  total  day  season_2  season_3  season_4  \\\n",
       "0  0.24      0.81      0.194     16    1         0         0         0   \n",
       "1  0.22      0.80      0.194     40    1         0         0         0   \n",
       "2  0.22      0.80      0.194     32    1         0         0         0   \n",
       "3  0.24      0.75      0.194     13    1         0         0         0   \n",
       "4  0.24      0.75      0.194      1    1         0         0         0   \n",
       "\n",
       "   year_1  hour_1  ...  weekday_1  weekday_2  weekday_3  weekday_4  weekday_5  \\\n",
       "0       0       0  ...          0          0          0          0          0   \n",
       "1       0       1  ...          0          0          0          0          0   \n",
       "2       0       0  ...          0          0          0          0          0   \n",
       "3       0       0  ...          0          0          0          0          0   \n",
       "4       0       0  ...          0          0          0          0          0   \n",
       "\n",
       "   weekday_6  workingday_1  weather_2  weather_3  weather_4  \n",
       "0          1             0          0          0          0  \n",
       "1          1             0          0          0          0  \n",
       "2          1             0          0          0          0  \n",
       "3          1             0          0          0          0  \n",
       "4          1             0          0          0          0  \n",
       "\n",
       "[5 rows x 43 columns]"
      ]
     },
     "execution_count": 41,
     "metadata": {},
     "output_type": "execute_result"
    }
   ],
   "source": [
    "df.head()"
   ]
  },
  {
   "cell_type": "code",
   "execution_count": 42,
   "id": "private-scottish",
   "metadata": {},
   "outputs": [
    {
     "data": {
      "text/plain": [
       "(17377, 43)"
      ]
     },
     "execution_count": 42,
     "metadata": {},
     "output_type": "execute_result"
    }
   ],
   "source": [
    "df.shape"
   ]
  },
  {
   "cell_type": "code",
   "execution_count": 43,
   "id": "strange-nudist",
   "metadata": {
    "scrolled": false
   },
   "outputs": [
    {
     "name": "stdout",
     "output_type": "stream",
     "text": [
      "<class 'pandas.core.frame.DataFrame'>\n",
      "RangeIndex: 17377 entries, 0 to 17376\n",
      "Data columns (total 43 columns):\n",
      " #   Column        Non-Null Count  Dtype  \n",
      "---  ------        --------------  -----  \n",
      " 0   temp          17377 non-null  float64\n",
      " 1   humidity      17377 non-null  float64\n",
      " 2   windspeed     17377 non-null  float64\n",
      " 3   total         17377 non-null  int64  \n",
      " 4   day           17377 non-null  int64  \n",
      " 5   season_2      17377 non-null  int64  \n",
      " 6   season_3      17377 non-null  int64  \n",
      " 7   season_4      17377 non-null  int64  \n",
      " 8   year_1        17377 non-null  int64  \n",
      " 9   hour_1        17377 non-null  int64  \n",
      " 10  hour_2        17377 non-null  int64  \n",
      " 11  hour_3        17377 non-null  int64  \n",
      " 12  hour_4        17377 non-null  int64  \n",
      " 13  hour_5        17377 non-null  int64  \n",
      " 14  hour_6        17377 non-null  int64  \n",
      " 15  hour_7        17377 non-null  int64  \n",
      " 16  hour_8        17377 non-null  int64  \n",
      " 17  hour_9        17377 non-null  int64  \n",
      " 18  hour_10       17377 non-null  int64  \n",
      " 19  hour_11       17377 non-null  int64  \n",
      " 20  hour_12       17377 non-null  int64  \n",
      " 21  hour_13       17377 non-null  int64  \n",
      " 22  hour_14       17377 non-null  int64  \n",
      " 23  hour_15       17377 non-null  int64  \n",
      " 24  hour_16       17377 non-null  int64  \n",
      " 25  hour_17       17377 non-null  int64  \n",
      " 26  hour_18       17377 non-null  int64  \n",
      " 27  hour_19       17377 non-null  int64  \n",
      " 28  hour_20       17377 non-null  int64  \n",
      " 29  hour_21       17377 non-null  int64  \n",
      " 30  hour_22       17377 non-null  int64  \n",
      " 31  hour_23       17377 non-null  int64  \n",
      " 32  holiday_1     17377 non-null  int64  \n",
      " 33  weekday_1     17377 non-null  int64  \n",
      " 34  weekday_2     17377 non-null  int64  \n",
      " 35  weekday_3     17377 non-null  int64  \n",
      " 36  weekday_4     17377 non-null  int64  \n",
      " 37  weekday_5     17377 non-null  int64  \n",
      " 38  weekday_6     17377 non-null  int64  \n",
      " 39  workingday_1  17377 non-null  int64  \n",
      " 40  weather_2     17377 non-null  int64  \n",
      " 41  weather_3     17377 non-null  int64  \n",
      " 42  weather_4     17377 non-null  int64  \n",
      "dtypes: float64(3), int64(40)\n",
      "memory usage: 5.7 MB\n"
     ]
    }
   ],
   "source": [
    "df.info()"
   ]
  },
  {
   "cell_type": "markdown",
   "id": "convertible-slovakia",
   "metadata": {},
   "source": [
    "## Prepare set of independent variables and the dependent variable."
   ]
  },
  {
   "cell_type": "code",
   "execution_count": 44,
   "id": "visible-invasion",
   "metadata": {},
   "outputs": [],
   "source": [
    "X = df.drop('total', axis = 1).values\n",
    "y = df['total']"
   ]
  },
  {
   "cell_type": "markdown",
   "id": "united-prompt",
   "metadata": {},
   "source": [
    "## Split the data into Train and Test sets"
   ]
  },
  {
   "cell_type": "code",
   "execution_count": 45,
   "id": "valuable-providence",
   "metadata": {},
   "outputs": [
    {
     "data": {
      "text/plain": [
       "((12163, 42), (12163,), (5214, 42), (5214,))"
      ]
     },
     "execution_count": 45,
     "metadata": {},
     "output_type": "execute_result"
    }
   ],
   "source": [
    "X_train, X_test, y_train, y_test = train_test_split(X,y,test_size=0.30,random_state=42)\n",
    "X_train.shape, y_train.shape, X_test.shape, y_test.shape"
   ]
  },
  {
   "cell_type": "markdown",
   "id": "horizontal-potential",
   "metadata": {},
   "source": [
    "## Implementing the model "
   ]
  },
  {
   "cell_type": "markdown",
   "id": "signal-aaron",
   "metadata": {},
   "source": [
    "### 1. Linear Regression:"
   ]
  },
  {
   "cell_type": "markdown",
   "id": "determined-minority",
   "metadata": {},
   "source": [
    "#### Hyper Parameter Estimation:"
   ]
  },
  {
   "cell_type": "code",
   "execution_count": 46,
   "id": "indirect-medicaid",
   "metadata": {},
   "outputs": [
    {
     "name": "stdout",
     "output_type": "stream",
     "text": [
      "{'copy_X': 'True', 'fit_intercept': 'True', 'n_jobs': 1, 'normalize': 'True', 'positive': 'True'}\n"
     ]
    }
   ],
   "source": [
    "lin_reg = GridSearchCV(LinearRegression(),{'fit_intercept':['True','False'],\n",
    "    'n_jobs': [1,2,3,4,5,6,7,8,9,10],\n",
    "    'normalize':['True','False'],\n",
    "    'copy_X':['True','False'],\n",
    "    'positive':['True','False']},\n",
    "    cv=3)\n",
    "\n",
    "lin_reg.fit(X_train,y_train)\n",
    "print(lin_reg.best_params_)"
   ]
  },
  {
   "cell_type": "markdown",
   "id": "quantitative-wrist",
   "metadata": {},
   "source": [
    "#### Run the model:"
   ]
  },
  {
   "cell_type": "code",
   "execution_count": 47,
   "id": "outdoor-value",
   "metadata": {},
   "outputs": [
    {
     "data": {
      "text/plain": [
       "LinearRegression(n_jobs=1, normalize=True, positive=True)"
      ]
     },
     "execution_count": 47,
     "metadata": {},
     "output_type": "execute_result"
    }
   ],
   "source": [
    "lin_reg = LinearRegression(copy_X = True, normalize= True, positive = True,n_jobs = 1, fit_intercept=True)\n",
    "lin_reg.fit(X_train,y_train)"
   ]
  },
  {
   "cell_type": "markdown",
   "id": "qualified-observation",
   "metadata": {},
   "source": [
    "#### Performance of the model:"
   ]
  },
  {
   "cell_type": "code",
   "execution_count": 48,
   "id": "worth-district",
   "metadata": {},
   "outputs": [],
   "source": [
    "y_pred = lin_reg.predict(X_test)\n"
   ]
  },
  {
   "cell_type": "code",
   "execution_count": 49,
   "id": "egyptian-armor",
   "metadata": {},
   "outputs": [],
   "source": [
    "cross_vall = cross_val_score(lin_reg,X,y, cv = 3)\n",
    "cross_validation = cross_vall.mean()\n",
    "mean_squared = metrics.mean_squared_error(y_test,y_pred)\n",
    "mean_r2 = metrics.r2_score(y_test,y_pred)"
   ]
  },
  {
   "cell_type": "code",
   "execution_count": 50,
   "id": "continental-mounting",
   "metadata": {
    "scrolled": true
   },
   "outputs": [
    {
     "name": "stdout",
     "output_type": "stream",
     "text": [
      "Cross Validation Score:  0.5717623010735478\n",
      "Root Mean Squared error:  103.77901355983724\n",
      "R-Square score:  0.6536311348943649\n"
     ]
    }
   ],
   "source": [
    "print('Cross Validation Score: ', cross_validation)\n",
    "print('Root Mean Squared error: ', np.sqrt(mean_squared))\n",
    "print('R-Square score: ', mean_r2)"
   ]
  },
  {
   "cell_type": "markdown",
   "id": "israeli-zimbabwe",
   "metadata": {},
   "source": [
    "### 2. Random Forrest Regressor:"
   ]
  },
  {
   "cell_type": "markdown",
   "id": "aquatic-consultancy",
   "metadata": {},
   "source": [
    "#### Hyper Parameter Estimation:"
   ]
  },
  {
   "cell_type": "code",
   "execution_count": 51,
   "id": "nominated-toilet",
   "metadata": {},
   "outputs": [
    {
     "name": "stdout",
     "output_type": "stream",
     "text": [
      "{'criterion': 'mse', 'max_features': 'auto', 'n_estimators': 100}\n"
     ]
    }
   ],
   "source": [
    "ranf_reg = GridSearchCV(RandomForestRegressor(),\n",
    "    {'n_estimators':[10,100],\n",
    "    'criterion': [\"mse\",\"mae\"],\n",
    "    'max_features':['auto','sqrt',\"log2\"]},\n",
    "    cv=3)\n",
    "\n",
    "ranf_reg.fit(X_train,y_train)\n",
    "print(ranf_reg.best_params_)"
   ]
  },
  {
   "cell_type": "markdown",
   "id": "indie-glass",
   "metadata": {},
   "source": [
    "#### Run the model:"
   ]
  },
  {
   "cell_type": "code",
   "execution_count": 61,
   "id": "negative-active",
   "metadata": {},
   "outputs": [
    {
     "data": {
      "text/plain": [
       "RandomForestRegressor()"
      ]
     },
     "execution_count": 61,
     "metadata": {},
     "output_type": "execute_result"
    }
   ],
   "source": [
    "ranf_reg = RandomForestRegressor(n_estimators = 100, criterion= 'mse', max_features = 'auto')\n",
    "ranf_reg.fit(X_train,y_train)"
   ]
  },
  {
   "cell_type": "markdown",
   "id": "latter-inspection",
   "metadata": {},
   "source": [
    "#### Performance of the model:"
   ]
  },
  {
   "cell_type": "code",
   "execution_count": 62,
   "id": "objective-basket",
   "metadata": {},
   "outputs": [],
   "source": [
    "y_pred = ranf_reg.predict(X_test)"
   ]
  },
  {
   "cell_type": "code",
   "execution_count": 63,
   "id": "smaller-garbage",
   "metadata": {},
   "outputs": [],
   "source": [
    "cross_vall = cross_val_score(ranf_reg,X,y, cv = 3)\n",
    "cross_validation = cross_vall.mean()\n",
    "mean_squared = metrics.mean_squared_error(y_test,y_pred)\n",
    "mean_r2 = metrics.r2_score(y_test,y_pred)"
   ]
  },
  {
   "cell_type": "code",
   "execution_count": 64,
   "id": "moved-blank",
   "metadata": {},
   "outputs": [
    {
     "name": "stdout",
     "output_type": "stream",
     "text": [
      "Cross Validation Score:  0.7806267073665455\n",
      "Root Mean Squared error:  54.03905449169824\n",
      "R-Square score:  0.9060849371849957\n"
     ]
    }
   ],
   "source": [
    "print('Cross Validation Score: ', cross_validation)\n",
    "print('Root Mean Squared error: ', np.sqrt(mean_squared))\n",
    "print('R-Square score: ', mean_r2)"
   ]
  },
  {
   "cell_type": "markdown",
   "id": "asian-amino",
   "metadata": {},
   "source": [
    "### 3. Extra Trees Regressor:"
   ]
  },
  {
   "cell_type": "code",
   "execution_count": 56,
   "id": "western-cornwall",
   "metadata": {},
   "outputs": [
    {
     "name": "stdout",
     "output_type": "stream",
     "text": [
      "{'criterion': 'mse', 'max_features': 'auto', 'n_estimators': 100}\n"
     ]
    }
   ],
   "source": [
    "etree_reg = GridSearchCV(ExtraTreesRegressor(),\n",
    "    {'n_estimators':[10,100],\n",
    "    'criterion': [\"mse\",\"mae\"],\n",
    "    'max_features':['auto','sqrt',\"log2\"]},\n",
    "    cv=3)\n",
    "\n",
    "etree_reg.fit(X_train,y_train)\n",
    "print(etree_reg.best_params_)"
   ]
  },
  {
   "cell_type": "markdown",
   "id": "opening-expense",
   "metadata": {},
   "source": [
    "#### Run the model:"
   ]
  },
  {
   "cell_type": "code",
   "execution_count": 57,
   "id": "polar-stopping",
   "metadata": {},
   "outputs": [
    {
     "data": {
      "text/plain": [
       "ExtraTreesRegressor()"
      ]
     },
     "execution_count": 57,
     "metadata": {},
     "output_type": "execute_result"
    }
   ],
   "source": [
    "etree_reg = ExtraTreesRegressor(n_estimators = 100, criterion= 'mse', max_features = 'auto')\n",
    "etree_reg.fit(X_train,y_train)"
   ]
  },
  {
   "cell_type": "markdown",
   "id": "thirty-sunglasses",
   "metadata": {},
   "source": [
    "#### Performance of the model:"
   ]
  },
  {
   "cell_type": "code",
   "execution_count": 58,
   "id": "supposed-hunger",
   "metadata": {},
   "outputs": [],
   "source": [
    "y_pred = etree_reg.predict(X_test)"
   ]
  },
  {
   "cell_type": "code",
   "execution_count": 59,
   "id": "every-protocol",
   "metadata": {},
   "outputs": [],
   "source": [
    "cross_vall = cross_val_score(etree_reg,X,y, cv = 3)\n",
    "cross_validation = cross_vall.mean()\n",
    "mean_squared = metrics.mean_squared_error(y_test,y_pred)\n",
    "mean_r2 = metrics.r2_score(y_test,y_pred)"
   ]
  },
  {
   "cell_type": "code",
   "execution_count": 60,
   "id": "brave-buying",
   "metadata": {},
   "outputs": [
    {
     "name": "stdout",
     "output_type": "stream",
     "text": [
      "Cross Validation Score:  0.8251720921797437\n",
      "Root Mean Squared error:  49.493815983591006\n",
      "R-Square score:  0.9212189710877905\n"
     ]
    }
   ],
   "source": [
    "print('Cross Validation Score: ', cross_validation)\n",
    "print('Root Mean Squared error: ', np.sqrt(mean_squared))\n",
    "print('R-Square score: ', mean_r2)"
   ]
  },
  {
   "cell_type": "markdown",
   "id": "ordered-macedonia",
   "metadata": {},
   "source": [
    "### Comparision of the models "
   ]
  },
  {
   "cell_type": "markdown",
   "id": "ultimate-power",
   "metadata": {},
   "source": [
    "Here I've used three different models .\n",
    "- Linear Regression  \n",
    "- Random Forrest Regression\n",
    "- Extra Trees Regression \n",
    "\n",
    "From these three models the best performing scores are from the \"Extra Trees Regression\". \n",
    "\n",
    "So we will use this model to predict the demand of 'Bike Sharing Users' in our dataset."
   ]
  },
  {
   "cell_type": "code",
   "execution_count": null,
   "id": "transparent-process",
   "metadata": {},
   "outputs": [],
   "source": []
  }
 ],
 "metadata": {
  "kernelspec": {
   "display_name": "Python 3",
   "language": "python",
   "name": "python3"
  },
  "language_info": {
   "codemirror_mode": {
    "name": "ipython",
    "version": 3
   },
   "file_extension": ".py",
   "mimetype": "text/x-python",
   "name": "python",
   "nbconvert_exporter": "python",
   "pygments_lexer": "ipython3",
   "version": "3.8.8"
  }
 },
 "nbformat": 4,
 "nbformat_minor": 5
}
